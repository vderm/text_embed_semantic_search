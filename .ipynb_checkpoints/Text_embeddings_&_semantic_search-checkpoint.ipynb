{
 "cells": [
  {
   "cell_type": "markdown",
   "metadata": {},
   "source": [
    "# Tutorial video"
   ]
  },
  {
   "cell_type": "markdown",
   "metadata": {
    "id": "VO5fVN2j6e94"
   },
   "source": [
    "This notebook regroups the code sample of the video below, which is a part of the [Hugging Face course](https://huggingface.co/course)."
   ]
  },
  {
   "cell_type": "code",
   "execution_count": 1,
   "metadata": {
    "cellView": "form",
    "id": "JTEdyCcv6e96",
    "outputId": "6d359ddf-d826-4a20-e2e1-9996f2455220"
   },
   "outputs": [
    {
     "data": {
      "text/html": [
       "\n",
       "        <iframe\n",
       "            width=\"560\"\n",
       "            height=\"315\"\n",
       "            src=\"https://www.youtube.com/embed/OATCgQtNX2o?rel=0&amp;controls=0&amp;showinfo=0\"\n",
       "            frameborder=\"0\"\n",
       "            allowfullscreen\n",
       "            \n",
       "        ></iframe>\n",
       "        "
      ],
      "text/plain": [
       "<IPython.lib.display.IFrame at 0x7f54980a6950>"
      ]
     },
     "execution_count": 1,
     "metadata": {},
     "output_type": "execute_result"
    }
   ],
   "source": [
    "from IPython.display import IFrame\n",
    "\n",
    "IFrame(src=\"https://www.youtube.com/embed/OATCgQtNX2o?rel=0&amp;controls=0&amp;showinfo=0\", width=560, height=315)"
   ]
  },
  {
   "cell_type": "markdown",
   "metadata": {},
   "source": [
    "# Load embedding model and run on sample sentences"
   ]
  },
  {
   "cell_type": "markdown",
   "metadata": {},
   "source": [
    "From: <https://www.sbert.net/docs/pretrained_models.html>\n",
    "\n",
    "The all-* models where trained on all available training data (more than 1 billion training pairs) and are designed as general purpose models. The all-mpnet-base-v2 model provides the best quality, while all-MiniLM-L6-v2 is 5 times faster and still offers good quality."
   ]
  },
  {
   "cell_type": "code",
   "execution_count": 2,
   "metadata": {},
   "outputs": [],
   "source": [
    "import torch\n",
    "from transformers import AutoTokenizer, AutoModel\n",
    "import torch.nn.functional as F\n",
    "\n",
    "import numpy as np\n",
    "from sklearn.metrics.pairwise import cosine_similarity"
   ]
  },
  {
   "cell_type": "code",
   "execution_count": 3,
   "metadata": {
    "id": "i3wZQjkh6e9-",
    "scrolled": true
   },
   "outputs": [
    {
     "name": "stdout",
     "output_type": "stream",
     "text": [
      "Token embeddings shape: torch.Size([4, 9, 384])\n"
     ]
    }
   ],
   "source": [
    "sentences = [\n",
    "    \"I took my dog for a walk\",\n",
    "    \"Today is going to rain\",\n",
    "    \"I took my cat for a walk\",\n",
    "    \"Today, I took my dog\",\n",
    "]\n",
    "\n",
    "model_ckpt = \"sentence-transformers/all-MiniLM-L6-v2\"\n",
    "tokenizer = AutoTokenizer.from_pretrained(model_ckpt)\n",
    "model = AutoModel.from_pretrained(model_ckpt)\n",
    "\n",
    "encoded_input = tokenizer(sentences, padding=True, truncation=True, return_tensors=\"pt\")\n",
    "\n",
    "with torch.no_grad():\n",
    "    model_output = model(**encoded_input)\n",
    "\n",
    "\n",
    "token_embeddings = model_output.last_hidden_state\n",
    "print(f\"Token embeddings shape: {token_embeddings.size()}\")"
   ]
  },
  {
   "cell_type": "code",
   "execution_count": 4,
   "metadata": {
    "id": "dBMDk6xF6e-A"
   },
   "outputs": [
    {
     "name": "stdout",
     "output_type": "stream",
     "text": [
      "Sentence embeddings shape: torch.Size([4, 384])\n"
     ]
    }
   ],
   "source": [
    "def mean_pooling(model_output, attention_mask):\n",
    "    token_embeddings = model_output.last_hidden_state\n",
    "    input_mask_expanded = (\n",
    "        attention_mask.unsqueeze(-1).expand(token_embeddings.size()).float()\n",
    "    )\n",
    "    return torch.sum(token_embeddings * input_mask_expanded, 1) / torch.clamp(\n",
    "        input_mask_expanded.sum(1), min=1e-9\n",
    "    )\n",
    "\n",
    "sentence_embeddings = mean_pooling(model_output, encoded_input[\"attention_mask\"])\n",
    "\n",
    "# Normalize the embeddings\n",
    "sentence_embeddings = F.normalize(sentence_embeddings, p=2, dim=1)\n",
    "print(f\"Sentence embeddings shape: {sentence_embeddings.size()}\")"
   ]
  },
  {
   "cell_type": "code",
   "execution_count": 5,
   "metadata": {
    "id": "BUS43Ijh6e-B"
   },
   "outputs": [],
   "source": [
    "sentence_embeddings = sentence_embeddings.detach().numpy()\n",
    "\n",
    "scores = np.zeros((sentence_embeddings.shape[0], sentence_embeddings.shape[0]))\n",
    "\n",
    "for idx in range(sentence_embeddings.shape[0]):\n",
    "    scores[idx, :] = cosine_similarity([sentence_embeddings[idx]], sentence_embeddings)[0]"
   ]
  },
  {
   "cell_type": "code",
   "execution_count": 6,
   "metadata": {},
   "outputs": [
    {
     "data": {
      "text/plain": [
       "array([[1.00000012, 0.1702117 , 0.82909298, 0.77300024],\n",
       "       [0.1702117 , 1.        , 0.17396855, 0.28136641],\n",
       "       [0.82909298, 0.17396855, 1.00000012, 0.60556054],\n",
       "       [0.77300024, 0.28136641, 0.60556054, 1.        ]])"
      ]
     },
     "execution_count": 6,
     "metadata": {},
     "output_type": "execute_result"
    }
   ],
   "source": [
    "scores"
   ]
  },
  {
   "cell_type": "markdown",
   "metadata": {},
   "source": [
    "# Test with more data from online source"
   ]
  },
  {
   "cell_type": "code",
   "execution_count": 7,
   "metadata": {},
   "outputs": [],
   "source": [
    "from datasets import load_dataset"
   ]
  },
  {
   "cell_type": "code",
   "execution_count": 8,
   "metadata": {
    "id": "Vs-Qh0hc6e-C"
   },
   "outputs": [],
   "source": [
    "squad = load_dataset(\"squad\", split=\"validation\").shuffle(seed=42).select(range(100))\n",
    "\n",
    "def get_embeddings(text_list):\n",
    "    encoded_input = tokenizer(\n",
    "        text_list, padding=True, truncation=True, return_tensors=\"pt\"\n",
    "    )\n",
    "    encoded_input = {k: v for k, v in encoded_input.items()}\n",
    "    with torch.no_grad():\n",
    "        model_output = model(**encoded_input)\n",
    "    return mean_pooling(model_output, encoded_input[\"attention_mask\"])\n",
    "\n",
    "\n",
    "squad_with_embeddings = squad.map(\n",
    "    lambda x: {\"embeddings\": get_embeddings(x[\"context\"]).cpu().numpy()[0]}\n",
    ")"
   ]
  },
  {
   "cell_type": "code",
   "execution_count": 9,
   "metadata": {
    "scrolled": true
   },
   "outputs": [
    {
     "data": {
      "text/plain": [
       "{'id': '572759665951b619008f8884',\n",
       " 'title': 'Private_school',\n",
       " 'context': 'Private schooling in the United States has been debated by educators, lawmakers and parents, since the beginnings of compulsory education in Massachusetts in 1852. The Supreme Court precedent appears to favor educational choice, so long as states may set standards for educational accomplishment. Some of the most relevant Supreme Court case law on this is as follows: Runyon v. McCrary, 427 U.S. 160 (1976); Wisconsin v. Yoder, 406 U.S. 205 (1972); Pierce v. Society of Sisters, 268 U.S. 510 (1925); Meyer v. Nebraska, 262 U.S. 390 (1923).',\n",
       " 'question': 'In what year did Massachusetts first require children to be educated in schools?',\n",
       " 'answers': {'text': ['1852', '1852', '1852'],\n",
       "  'answer_start': [158, 158, 158]},\n",
       " 'embeddings': [-0.03858013078570366,\n",
       "  0.08203672617673874,\n",
       "  0.028137268498539925,\n",
       "  0.042275164276361465,\n",
       "  0.028608301654458046,\n",
       "  0.2042417824268341,\n",
       "  -0.251718133687973,\n",
       "  0.08364831656217575,\n",
       "  -0.11539895832538605,\n",
       "  0.22696398198604584,\n",
       "  0.24509842693805695,\n",
       "  0.31993725895881653,\n",
       "  -0.03917751461267471,\n",
       "  0.029123425483703613,\n",
       "  0.017435792833566666,\n",
       "  0.15536528825759888,\n",
       "  0.06439895927906036,\n",
       "  0.09014272689819336,\n",
       "  0.05320509895682335,\n",
       "  0.03159597888588905,\n",
       "  0.061011191457509995,\n",
       "  0.01980898343026638,\n",
       "  -0.09208469092845917,\n",
       "  0.044630903750658035,\n",
       "  0.1561274379491806,\n",
       "  0.11219833046197891,\n",
       "  0.1549863964319229,\n",
       "  -0.16905362904071808,\n",
       "  -0.08839350193738937,\n",
       "  -0.08565207570791245,\n",
       "  -0.07179665565490723,\n",
       "  -0.18797680735588074,\n",
       "  0.027066946029663086,\n",
       "  0.04281308874487877,\n",
       "  0.18155308067798615,\n",
       "  -0.09586016833782196,\n",
       "  0.18737046420574188,\n",
       "  0.059260476380586624,\n",
       "  -0.07543519139289856,\n",
       "  -0.06857553869485855,\n",
       "  -0.031915243715047836,\n",
       "  -0.06519799679517746,\n",
       "  0.03992627561092377,\n",
       "  -0.028396673500537872,\n",
       "  -0.022745154798030853,\n",
       "  0.09287530183792114,\n",
       "  -0.06270884722471237,\n",
       "  0.030808424577116966,\n",
       "  -0.16988125443458557,\n",
       "  0.01879698410630226,\n",
       "  -0.01850537583231926,\n",
       "  -0.12926413118839264,\n",
       "  -0.030122004449367523,\n",
       "  0.09841110557317734,\n",
       "  0.03247664496302605,\n",
       "  0.0844699889421463,\n",
       "  -0.09041490405797958,\n",
       "  0.04890892282128334,\n",
       "  -0.10348062217235565,\n",
       "  0.06028350442647934,\n",
       "  -0.1522514373064041,\n",
       "  -0.1262846738100052,\n",
       "  -0.0593387670814991,\n",
       "  -0.05508071929216385,\n",
       "  -0.04485028609633446,\n",
       "  0.12419378012418747,\n",
       "  -0.023663019761443138,\n",
       "  -0.0950445607304573,\n",
       "  0.027192173525691032,\n",
       "  0.02689490094780922,\n",
       "  0.2061985731124878,\n",
       "  0.21896478533744812,\n",
       "  0.07600639760494232,\n",
       "  0.023540889844298363,\n",
       "  -0.04185426980257034,\n",
       "  -0.02465137094259262,\n",
       "  0.07330142706632614,\n",
       "  0.1760537028312683,\n",
       "  0.15248502790927887,\n",
       "  -0.028069188818335533,\n",
       "  -0.009858334437012672,\n",
       "  -0.10014737397432327,\n",
       "  -0.1359848827123642,\n",
       "  -0.07823817431926727,\n",
       "  -0.003436553757637739,\n",
       "  -0.020472433418035507,\n",
       "  -0.04197320342063904,\n",
       "  0.008263742551207542,\n",
       "  0.17220744490623474,\n",
       "  -0.10249964892864227,\n",
       "  0.047286875545978546,\n",
       "  -0.22109436988830566,\n",
       "  -0.06555050611495972,\n",
       "  0.02824622578918934,\n",
       "  0.06839591264724731,\n",
       "  -0.03742613643407822,\n",
       "  -0.036804430186748505,\n",
       "  -0.04941230267286301,\n",
       "  0.08636225014925003,\n",
       "  0.05835337191820145,\n",
       "  -0.08010584861040115,\n",
       "  -0.029807960614562035,\n",
       "  0.10745995491743088,\n",
       "  0.037708885967731476,\n",
       "  0.20553934574127197,\n",
       "  0.07779945433139801,\n",
       "  0.13703522086143494,\n",
       "  -0.11973786354064941,\n",
       "  -0.0885498896241188,\n",
       "  -0.01367123145610094,\n",
       "  0.18429318070411682,\n",
       "  0.002980888355523348,\n",
       "  0.12574365735054016,\n",
       "  0.0842946246266365,\n",
       "  0.142135888338089,\n",
       "  -0.026411795988678932,\n",
       "  0.307113915681839,\n",
       "  0.12381451576948166,\n",
       "  0.06484757363796234,\n",
       "  -0.2157881110906601,\n",
       "  -0.07558996975421906,\n",
       "  0.0150247598066926,\n",
       "  -0.21355657279491425,\n",
       "  -0.14556992053985596,\n",
       "  -0.12320304661989212,\n",
       "  -0.11897268146276474,\n",
       "  -0.20709878206253052,\n",
       "  1.752617996037875e-33,\n",
       "  -0.03113468736410141,\n",
       "  -0.142365500330925,\n",
       "  0.02028164267539978,\n",
       "  -0.038519538938999176,\n",
       "  -0.09088851511478424,\n",
       "  -0.0830763652920723,\n",
       "  0.10293740779161453,\n",
       "  -0.10705792158842087,\n",
       "  -0.09190700948238373,\n",
       "  -0.10232756286859512,\n",
       "  0.07687360048294067,\n",
       "  -0.12821827828884125,\n",
       "  0.1510220766067505,\n",
       "  -0.03900175914168358,\n",
       "  0.15024405717849731,\n",
       "  -0.0716305822134018,\n",
       "  -0.1575479954481125,\n",
       "  0.06916292011737823,\n",
       "  0.1726919412612915,\n",
       "  0.007832184433937073,\n",
       "  0.1619923859834671,\n",
       "  -0.019195882603526115,\n",
       "  -0.04082757979631424,\n",
       "  -0.08878187835216522,\n",
       "  -0.28423410654067993,\n",
       "  -0.13248996436595917,\n",
       "  0.13388724625110626,\n",
       "  -0.12684565782546997,\n",
       "  0.042518310248851776,\n",
       "  -0.033231910318136215,\n",
       "  0.22869335114955902,\n",
       "  0.05067792907357216,\n",
       "  0.05341392010450363,\n",
       "  0.07680290192365646,\n",
       "  0.10335230082273483,\n",
       "  0.027115801349282265,\n",
       "  -0.005245905835181475,\n",
       "  0.056778766214847565,\n",
       "  0.06784601509571075,\n",
       "  -0.01753116399049759,\n",
       "  0.023221204057335854,\n",
       "  -0.06462069600820541,\n",
       "  0.09722112864255905,\n",
       "  0.10031203925609589,\n",
       "  0.06568309664726257,\n",
       "  -0.07014624774456024,\n",
       "  -0.09006286412477493,\n",
       "  0.026496054604649544,\n",
       "  0.0031571360304951668,\n",
       "  0.06240878254175186,\n",
       "  -0.0893576592206955,\n",
       "  0.02443929761648178,\n",
       "  -0.04212229326367378,\n",
       "  -0.17727917432785034,\n",
       "  0.00690711522474885,\n",
       "  0.08556453138589859,\n",
       "  0.05620576813817024,\n",
       "  0.04055760055780411,\n",
       "  -0.139476016163826,\n",
       "  -0.03188910335302353,\n",
       "  -0.11537126451730728,\n",
       "  0.13519704341888428,\n",
       "  0.09696085005998611,\n",
       "  -0.09822496026754379,\n",
       "  -0.054456692188978195,\n",
       "  0.04144347086548805,\n",
       "  -0.11594223231077194,\n",
       "  -0.1032048761844635,\n",
       "  0.08188017457723618,\n",
       "  -0.1511344462633133,\n",
       "  0.030866021290421486,\n",
       "  0.037170395255088806,\n",
       "  -0.24856452643871307,\n",
       "  -0.06792616099119186,\n",
       "  -0.0034486427903175354,\n",
       "  -0.07485174387693405,\n",
       "  0.20303329825401306,\n",
       "  -0.00981489010155201,\n",
       "  0.014148670248687267,\n",
       "  -0.16406023502349854,\n",
       "  0.07175133377313614,\n",
       "  -0.03895633667707443,\n",
       "  0.018134532496333122,\n",
       "  0.031900789588689804,\n",
       "  0.05918164178729057,\n",
       "  -0.000866339192725718,\n",
       "  -0.10906204581260681,\n",
       "  -0.0712047815322876,\n",
       "  0.1715611219406128,\n",
       "  0.07260959595441818,\n",
       "  0.1323934644460678,\n",
       "  -0.027573997154831886,\n",
       "  -0.17568866908550262,\n",
       "  0.04156635329127312,\n",
       "  0.0887928456068039,\n",
       "  -2.2344957421101478e-33,\n",
       "  -0.11333103477954865,\n",
       "  -0.031130768358707428,\n",
       "  -0.09184703230857849,\n",
       "  0.2603273391723633,\n",
       "  0.04456968605518341,\n",
       "  -0.20836667716503143,\n",
       "  0.008766788989305496,\n",
       "  -0.08884648978710175,\n",
       "  -0.0026970873586833477,\n",
       "  -0.09765610843896866,\n",
       "  -0.09480920433998108,\n",
       "  -0.00045986214536242187,\n",
       "  0.09223019331693649,\n",
       "  0.15388108789920807,\n",
       "  -0.027074534446001053,\n",
       "  0.10168473422527313,\n",
       "  -0.04104018211364746,\n",
       "  -0.07853800058364868,\n",
       "  0.010629097931087017,\n",
       "  -0.07885286957025528,\n",
       "  -0.0038081402890384197,\n",
       "  0.14722613990306854,\n",
       "  -0.0013224051799625158,\n",
       "  0.026660490781068802,\n",
       "  0.057138632982969284,\n",
       "  -0.059648603200912476,\n",
       "  -0.19524797797203064,\n",
       "  0.016622444614768028,\n",
       "  0.000971712579485029,\n",
       "  0.08769616484642029,\n",
       "  0.13046398758888245,\n",
       "  0.08662040531635284,\n",
       "  -0.02513727732002735,\n",
       "  0.011945405043661594,\n",
       "  0.043959323316812515,\n",
       "  -0.06625477969646454,\n",
       "  0.03384622558951378,\n",
       "  0.15856145322322845,\n",
       "  0.000624930951744318,\n",
       "  -0.030135301873087883,\n",
       "  0.053914740681648254,\n",
       "  -0.08821725100278854,\n",
       "  -0.06400191783905029,\n",
       "  0.08368856459856033,\n",
       "  0.0511506050825119,\n",
       "  0.15158461034297943,\n",
       "  0.12829804420471191,\n",
       "  0.04931626096367836,\n",
       "  0.004869993310421705,\n",
       "  0.06519714742898941,\n",
       "  -0.24181818962097168,\n",
       "  0.023200958967208862,\n",
       "  0.12914156913757324,\n",
       "  0.04270492121577263,\n",
       "  0.0908225029706955,\n",
       "  -0.17720890045166016,\n",
       "  -0.028138358145952225,\n",
       "  -0.03436180576682091,\n",
       "  -0.04837999865412712,\n",
       "  0.17165245115756989,\n",
       "  0.22962753474712372,\n",
       "  -0.12969106435775757,\n",
       "  -0.21075840294361115,\n",
       "  -0.06714382022619247,\n",
       "  0.06658194214105606,\n",
       "  -0.11891666054725647,\n",
       "  -0.12384466081857681,\n",
       "  -0.041526008397340775,\n",
       "  -0.10983496904373169,\n",
       "  -0.004360415507107973,\n",
       "  -0.019986893981695175,\n",
       "  -0.06622878462076187,\n",
       "  -0.0007227309397421777,\n",
       "  -0.18036909401416779,\n",
       "  0.020235342904925346,\n",
       "  0.19163455069065094,\n",
       "  0.08085611462593079,\n",
       "  0.23135030269622803,\n",
       "  -0.2405225783586502,\n",
       "  0.15040966868400574,\n",
       "  0.038195423781871796,\n",
       "  -0.08508304506540298,\n",
       "  -0.009359744377434254,\n",
       "  -0.14922022819519043,\n",
       "  -0.10160822421312332,\n",
       "  0.1089712381362915,\n",
       "  0.14549362659454346,\n",
       "  -0.14123278856277466,\n",
       "  0.005637066904455423,\n",
       "  0.035220514982938766,\n",
       "  -0.02218824066221714,\n",
       "  -0.09416524320840836,\n",
       "  0.09866384416818619,\n",
       "  -0.06785613298416138,\n",
       "  -0.21660557389259338,\n",
       "  -9.866457872931278e-08,\n",
       "  0.07096412777900696,\n",
       "  0.04423617571592331,\n",
       "  -0.057768724858760834,\n",
       "  0.10824181884527206,\n",
       "  0.022654227912425995,\n",
       "  -0.005609248764812946,\n",
       "  0.047697171568870544,\n",
       "  -0.0837409719824791,\n",
       "  -0.029942043125629425,\n",
       "  0.19853150844573975,\n",
       "  -0.28308984637260437,\n",
       "  0.037716079503297806,\n",
       "  0.0862135961651802,\n",
       "  0.03152865171432495,\n",
       "  0.09420742839574814,\n",
       "  0.07668473571538925,\n",
       "  0.027408495545387268,\n",
       "  -0.04609585553407669,\n",
       "  -0.03540932759642601,\n",
       "  0.02545050159096718,\n",
       "  0.08714767545461655,\n",
       "  -0.14003723859786987,\n",
       "  0.04685095325112343,\n",
       "  0.1234191358089447,\n",
       "  -0.17963504791259766,\n",
       "  0.17981569468975067,\n",
       "  0.16060659289360046,\n",
       "  -0.02377011440694332,\n",
       "  -0.001794229494407773,\n",
       "  0.13468314707279205,\n",
       "  0.0738363116979599,\n",
       "  0.17214679718017578,\n",
       "  -0.0317811481654644,\n",
       "  -0.23514464497566223,\n",
       "  -0.08172118663787842,\n",
       "  -0.05446434020996094,\n",
       "  -0.1403702050447464,\n",
       "  0.1758671998977661,\n",
       "  0.037818972021341324,\n",
       "  -0.08913237601518631,\n",
       "  -0.027900105342268944,\n",
       "  -0.11638637632131577,\n",
       "  0.12781870365142822,\n",
       "  0.06000223755836487,\n",
       "  0.014706912450492382,\n",
       "  0.03253127634525299,\n",
       "  -0.06314399838447571,\n",
       "  0.011678026989102364,\n",
       "  0.05135001242160797,\n",
       "  0.2276436984539032,\n",
       "  -0.1421561986207962,\n",
       "  -0.17396380007266998,\n",
       "  -0.04011111333966255,\n",
       "  -0.28597334027290344,\n",
       "  0.12203700095415115,\n",
       "  0.04260457679629326,\n",
       "  0.22351637482643127,\n",
       "  -0.13082793354988098,\n",
       "  -0.16461457312107086,\n",
       "  -0.11602935940027237,\n",
       "  0.12501685321331024,\n",
       "  0.09350596368312836,\n",
       "  0.05507934093475342,\n",
       "  0.12151108682155609]}"
      ]
     },
     "execution_count": 9,
     "metadata": {},
     "output_type": "execute_result"
    }
   ],
   "source": [
    "next(iter(squad_with_embeddings))"
   ]
  },
  {
   "cell_type": "code",
   "execution_count": 10,
   "metadata": {
    "id": "GbTZbYct6e-E"
   },
   "outputs": [
    {
     "data": {
      "application/vnd.jupyter.widget-view+json": {
       "model_id": "bce16e48812a4817817da702db23ba23",
       "version_major": 2,
       "version_minor": 0
      },
      "text/plain": [
       "  0%|          | 0/1 [00:00<?, ?it/s]"
      ]
     },
     "metadata": {},
     "output_type": "display_data"
    },
    {
     "data": {
      "text/plain": [
       "Dataset({\n",
       "    features: ['id', 'title', 'context', 'question', 'answers', 'embeddings'],\n",
       "    num_rows: 100\n",
       "})"
      ]
     },
     "execution_count": 10,
     "metadata": {},
     "output_type": "execute_result"
    }
   ],
   "source": [
    "# Add a FAISS index for quicker search (instead of cosine-similarity or ElasticSearch)\n",
    "squad_with_embeddings.add_faiss_index(column=\"embeddings\")"
   ]
  },
  {
   "cell_type": "code",
   "execution_count": 11,
   "metadata": {
    "id": "GbTZbYct6e-E"
   },
   "outputs": [],
   "source": [
    "question = \"In what year did Massachusetts first require children to be educated in schools?\"\n",
    "question_embedding = get_embeddings([question]).cpu().detach().numpy()\n",
    "\n",
    "scores, samples = squad_with_embeddings.get_nearest_examples(\n",
    "    \"embeddings\", question_embedding, k=3\n",
    ")"
   ]
  },
  {
   "cell_type": "code",
   "execution_count": 12,
   "metadata": {
    "id": "Tm4-8AM06e-F"
   },
   "outputs": [
    {
     "data": {
      "text/plain": [
       "array([19.214615, 25.755219, 26.745283], dtype=float32)"
      ]
     },
     "execution_count": 12,
     "metadata": {},
     "output_type": "execute_result"
    }
   ],
   "source": [
    "scores"
   ]
  },
  {
   "cell_type": "code",
   "execution_count": 13,
   "metadata": {
    "scrolled": true
   },
   "outputs": [
    {
     "data": {
      "text/plain": [
       "['Private schooling in the United States has been debated by educators, lawmakers and parents, since the beginnings of compulsory education in Massachusetts in 1852. The Supreme Court precedent appears to favor educational choice, so long as states may set standards for educational accomplishment. Some of the most relevant Supreme Court case law on this is as follows: Runyon v. McCrary, 427 U.S. 160 (1976); Wisconsin v. Yoder, 406 U.S. 205 (1972); Pierce v. Society of Sisters, 268 U.S. 510 (1925); Meyer v. Nebraska, 262 U.S. 390 (1923).',\n",
       " \"In the 1890s, the University of Chicago, fearful that its vast resources would injure smaller schools by drawing away good students, affiliated with several regional colleges and universities: Des Moines College, Kalamazoo College, Butler University, and Stetson University. In 1896, the university affiliated with Shimer College in Mount Carroll, Illinois. Under the terms of the affiliation, the schools were required to have courses of study comparable to those at the university, to notify the university early of any contemplated faculty appointments or dismissals, to make no faculty appointment without the university's approval, and to send copies of examinations for suggestions. The University of Chicago agreed to confer a degree on any graduating senior from an affiliated school who made a grade of A for all four years, and on any other graduate who took twelve weeks additional study at the University of Chicago. A student or faculty member of an affiliated school was entitled to free tuition at the University of Chicago, and Chicago students were eligible to attend an affiliated school on the same terms and receive credit for their work. The University of Chicago also agreed to provide affiliated schools with books and scientific apparatus and supplies at cost; special instructors and lecturers without cost except travel expenses; and a copy of every book and journal published by the University of Chicago Press at no cost. The agreement provided that either party could terminate the affiliation on proper notice. Several University of Chicago professors disliked the program, as it involved uncompensated additional labor on their part, and they believed it cheapened the academic reputation of the university. The program passed into history by 1910.\",\n",
       " 'The other category of schools are those run and partly or fully funded by private individuals, private organizations and religious groups. The ones that accept government funds are called \\'aided\\' schools. The private \\'un-aided\\' schools are fully funded by private parties. The standard and the quality of education is quite high. Technically, these would be categorized as private schools, but many of them have the name \"Public School\" appended to them, e.g., the Galaxy Public School in Kathmandu. Most of the middle-class families send their children to such schools, which might be in their own city or far off, like boarding schools. The medium of education is English, but as a compulsory subject, Nepali and/or the state\\'s official language is also taught. Preschool education is mostly limited to organized neighbourhood nursery schools.']"
      ]
     },
     "execution_count": 13,
     "metadata": {},
     "output_type": "execute_result"
    }
   ],
   "source": [
    "samples[\"context\"]"
   ]
  },
  {
   "cell_type": "markdown",
   "metadata": {},
   "source": [
    "# Test with local markdown data"
   ]
  },
  {
   "cell_type": "code",
   "execution_count": 14,
   "metadata": {},
   "outputs": [],
   "source": [
    "# https://www.pinecone.io/learn/chunking-strategies/\n",
    "from langchain.text_splitter import MarkdownTextSplitter  # although langchain is a mess... \n",
    "# ^ this is kind of pointless... doesn't clean the file or anything like that. Reads like plain text, at least breaks at end of word\n",
    "\n",
    "from datasets import Dataset\n",
    "\n",
    "import pandas as pd\n",
    "import frontmatter\n",
    "import os\n",
    "import glob"
   ]
  },
  {
   "cell_type": "code",
   "execution_count": 15,
   "metadata": {},
   "outputs": [],
   "source": [
    "def read_markdown(\n",
    "    notes_dir: str,\n",
    "    metadata_keys_keep_list: list = [\"title\", \"author\", \"categories\", \"tags\", \"links\", \"date\"],\n",
    ") -> list:\n",
    "    assert os.path.exists(notes_dir), f\"folder {dir} does not exist\"\n",
    "    markdown_list = []\n",
    "    \n",
    "    for filepath in glob.glob(os.path.join(notes_dir, \"*.md\")):\n",
    "        \n",
    "        with open(filepath, \"r\") as f:\n",
    "            metadata, content = frontmatter.parse(f.read())\n",
    "            \n",
    "        markdown_list.append({\n",
    "            \"filename\": os.path.split(filepath)[1].strip(\".md\"),\n",
    "            \"filepath\": filepath,\n",
    "            **{k:metadata.get(k, None) for k in metadata_keys_keep_list},\n",
    "            \"content\": content,\n",
    "        })\n",
    "    return markdown_list    \n",
    "\n",
    "def chunk_and_embed_markdown_list(\n",
    "    markdown_list: list,\n",
    "    get_embeddings,  # function\n",
    "    markdown_splitter: MarkdownTextSplitter,\n",
    ") -> list:\n",
    "    content_and_embedding_list = []\n",
    "    for md_dict in markdown_list:\n",
    "        filename, raw_content = md_dict.get(\"filename\"), md_dict.get(\"content\")\n",
    "        content = raw_content.replace(\"\\n\", \" \")\n",
    "        \n",
    "        docs = markdown_splitter.create_documents([content])  # , metadatas=[{\"filename\": filename}])\n",
    "        print(f\"{filename = } {len(docs) = }\")\n",
    "\n",
    "        doc_page_content = [doc.page_content for doc in docs]\n",
    "        embeddings = get_embeddings(doc_page_content)\n",
    "\n",
    "        for idx, (docc, embed) in enumerate(zip(doc_page_content, embeddings)):\n",
    "        \n",
    "            content_and_embedding_list.append({\n",
    "                \"filename\": filename,\n",
    "                \"chunk\": idx,\n",
    "                \"content\": docc,\n",
    "                \"embedding\": embed.cpu().numpy(),\n",
    "            })\n",
    "        \n",
    "    return content_and_embedding_list"
   ]
  },
  {
   "cell_type": "code",
   "execution_count": 16,
   "metadata": {},
   "outputs": [
    {
     "data": {
      "text/plain": [
       "{'filename': 'f1-score',\n",
       " 'filepath': './notes/f1-score.md',\n",
       " 'title': 'Metrics',\n",
       " 'author': 'Vasken Dermardiros',\n",
       " 'categories': 'note',\n",
       " 'tags': ['research', 'reference'],\n",
       " 'links': None,\n",
       " 'date': 'September 12, 2022',\n",
       " 'content': \"# F1 Score\\n+ https://towardsdatascience.com/essential-things-you-need-to-know-about-f1-score-dbd973bf1a3#4c6c\\n\\nIt elegantly sums up the predictive performance of a model by combining two otherwise competing metrics — precision and recall.\\n\\nThe F1-score combines the precision and recall of a classifier into a single metric by taking their harmonic mean.\\n\\n![F1-score](../attachments/2022-09-12-16-45-22.png)\\n\\n![F$\\\\beta$-score](../attachments/2022-09-12-16-46-03.png)\\n\\n![Errors](../attachments/2022-09-12-16-47-03.png)\\n\\n+ Precision: Of all positive predictions, how many are really positive?\\n+ Recall (or sensitivity): Of all real positive cases, how many are predicted positive?\\n  + Cancer case: worst if we don't diagnose people who have cancer (FN are bad) -> put more weight on recall\\n\\nPrecision measures the extent of error caused by False Positives (FPs) whereas recall measures the extent of error caused by False Negatives (FNs)\\n\\n![Precision vs Recall](../attachments/2022-09-12-16-50-35.png)\\n\\nIf we want both FP and FN to be reduced, then we care about both precision and recall and want to maximize both.\\n\\n![Means](../attachments/2022-09-12-16-58-43.png)\\n\\nHarmonic mean assures that very different values are penalized, like, a precision of 1 with recall 0 -> F1-score of 0; whereas an arithmetic mean would yield 0.5 which isn't the effect we want.\"}"
      ]
     },
     "execution_count": 16,
     "metadata": {},
     "output_type": "execute_result"
    }
   ],
   "source": [
    "md_dir = \"./notes\"  # \"/home/taylor/Repos/text_embed_semantic_search/notes\"\n",
    "markdown = read_markdown(md_dir)\n",
    "markdown[0]"
   ]
  },
  {
   "cell_type": "code",
   "execution_count": 17,
   "metadata": {},
   "outputs": [],
   "source": [
    "markdown_splitter = MarkdownTextSplitter(chunk_size=500, chunk_overlap=25)\n",
    "# docs = markdown_splitter.create_documents([m[0][\"content\"]])"
   ]
  },
  {
   "cell_type": "code",
   "execution_count": 18,
   "metadata": {
    "scrolled": true
   },
   "outputs": [
    {
     "name": "stdout",
     "output_type": "stream",
     "text": [
      "filename = 'f1-score' len(docs) = 3\n",
      "filename = 'goals' len(docs) = 30\n",
      "filename = 'containerization' len(docs) = 12\n",
      "filename = 'id_july_session' len(docs) = 7\n",
      "filename = 'swagger_client' len(docs) = 2\n",
      "filename = 'learning_to_trade_with_RL' len(docs) = 15\n",
      "filename = 'bbai_2022_wrappup' len(docs) = 3\n",
      "filename = 'eepmind_deep_learning_lectures' len(docs) = 15\n",
      "filename = 'civilized-mans-eight-deadly-sins' len(docs) = 5\n",
      "filename = 'conversion-package' len(docs) = 3\n",
      "filename = 'j-2023-07-25' len(docs) = 2\n",
      "filename = 'saas_pricing_model' len(docs) = 10\n",
      "filename = 'secrets-to-optimal-client-service' len(docs) = 2\n",
      "filename = 'ata_types' len(docs) = 13\n",
      "filename = 'bmi' len(docs) = 3\n",
      "filename = 'shape-up' len(docs) = 76\n",
      "filename = 'rework' len(docs) = 15\n",
      "filename = 'brainbox' len(docs) = 5\n",
      "filename = 'unlearn-oop' len(docs) = 3\n",
      "filename = 'scaling_down_deep_learning' len(docs) = 3\n",
      "filename = 'words' len(docs) = 4\n",
      "filename = 'ila-interactive-visit-autobot' len(docs) = 19\n",
      "filename = 'esigning-a-better-career-path-for-designers' len(docs) = 6\n",
      "filename = 'review_deepmind_trane_whitepaper' len(docs) = 9\n",
      "filename = 'eep_fake' len(docs) = 13\n",
      "filename = 'ifferentiable_programming_for_modeling_and_control_of_dynamical_systems' len(docs) = 4\n",
      "filename = 'quantization' len(docs) = 8\n",
      "filename = 'open-source-projects' len(docs) = 35\n",
      "filename = 'why-im-lukewarm-on-graph-neural-networks' len(docs) = 9\n",
      "filename = 'building_ai_trading_systems' len(docs) = 10\n",
      "filename = 'lattice' len(docs) = 2\n",
      "filename = 'building_mapping' len(docs) = 4\n",
      "filename = 'neural-structured-learning' len(docs) = 2\n",
      "filename = 'aws-cli' len(docs) = 5\n",
      "filename = 'business-model-generation' len(docs) = 15\n",
      "filename = 'stable_diffusion_notes' len(docs) = 4\n",
      "filename = 'UDE_RTU_equations' len(docs) = 7\n",
      "filename = 'udemy-course-docker' len(docs) = 27\n",
      "filename = 'linear-mpc-state-space' len(docs) = 30\n",
      "filename = 'reinforcement-learning' len(docs) = 29\n",
      "filename = 's3bucket' len(docs) = 4\n",
      "filename = 'foam-howto' len(docs) = 2\n",
      "filename = 'pitch-control-module' len(docs) = 9\n",
      "filename = 'architecture-patterns-with-python' len(docs) = 8\n",
      "filename = 'gflownet' len(docs) = 1\n",
      "filename = 'how-tech-loses-out' len(docs) = 3\n",
      "filename = 'virtual-bldg-operator' len(docs) = 30\n",
      "filename = 'how-to-interview-engineers' len(docs) = 6\n",
      "filename = 'functional-programming-howto' len(docs) = 28\n",
      "filename = 'practical-mlops' len(docs) = 19\n",
      "filename = 'yoshua_bengio_deep_learning_cognition' len(docs) = 13\n",
      "filename = 'occupancy_modeling' len(docs) = 36\n",
      "filename = 'competitor_companies_to_bbai' len(docs) = 22\n",
      "filename = 'optimization-of-brain-and-life-performance' len(docs) = 15\n",
      "filename = 'odel_based_machine_learning' len(docs) = 1\n",
      "filename = 'bullshit-game' len(docs) = 10\n",
      "filename = 'idiomatic-python' len(docs) = 7\n",
      "filename = 'templating_drawing_writing' len(docs) = 5\n",
      "filename = 'anagers_playbook' len(docs) = 40\n",
      "filename = 'llm_links' len(docs) = 15\n",
      "filename = 'json-yaml-toml' len(docs) = 4\n",
      "filename = 'atomic-habits' len(docs) = 10\n",
      "filename = 'ocker' len(docs) = 16\n",
      "filename = 'influxdb' len(docs) = 9\n",
      "filename = 'job_search_work_experience' len(docs) = 6\n",
      "filename = 'reading-week-lottery-ticket-slides' len(docs) = 29\n",
      "filename = 'biohacking_lite' len(docs) = 5\n",
      "filename = 'scientific_progress' len(docs) = 4\n",
      "filename = 'freelancing' len(docs) = 10\n",
      "filename = 'annex81' len(docs) = 25\n",
      "filename = 'a-brief-introduction-to-causal-inference' len(docs) = 15\n",
      "filename = 'biohack_intelligence' len(docs) = 28\n",
      "filename = 'regex' len(docs) = 4\n",
      "filename = 'gpu_for_deep_learning' len(docs) = 5\n",
      "filename = 'job_search_linkedin_notes' len(docs) = 29\n",
      "filename = 'se' len(docs) = 9\n",
      "filename = 'thinking-fast-and-slow' len(docs) = 8\n",
      "filename = 'pitch-prediction-module-core' len(docs) = 23\n",
      "filename = 'reading-week-learning-dexterous-in-hand-manipulation-slides' len(docs) = 13\n",
      "filename = 'neuro-studies' len(docs) = 4\n",
      "filename = 'taking-better-notes' len(docs) = 6\n",
      "filename = 'ila-node' len(docs) = 15\n",
      "filename = 'generative_AI' len(docs) = 1\n",
      "filename = 'ifferentiable_programming_from_scratch' len(docs) = 3\n",
      "filename = 'clearml-jupyter-lab' len(docs) = 2\n",
      "filename = 'code_review' len(docs) = 9\n",
      "filename = 'lua' len(docs) = 16\n",
      "filename = 'leadership-foundation' len(docs) = 4\n",
      "filename = 'presentation_logging' len(docs) = 22\n",
      "filename = 'haystack' len(docs) = 5\n",
      "filename = 'a-programmers-guide-to-saving-investing-and-retiring-early' len(docs) = 4\n",
      "filename = 'julia' len(docs) = 103\n",
      "filename = 'stable_diffusion_prompts' len(docs) = 32\n",
      "filename = 'project_impetus' len(docs) = 92\n",
      "filename = 'python-properties' len(docs) = 3\n",
      "filename = 'template_report' len(docs) = 10\n",
      "filename = 'readme' len(docs) = 3\n",
      "filename = 'pandoc-latex-test' len(docs) = 9\n",
      "filename = 'pandoc-latex-template' len(docs) = 14\n",
      "filename = 'better-software-architecture-for-saas-startups' len(docs) = 1\n",
      "filename = 'how-to-think-more-effectively' len(docs) = 8\n",
      "filename = 'where-to-publish' len(docs) = 4\n",
      "filename = 'icroservices' len(docs) = 9\n",
      "filename = 'k3s' len(docs) = 5\n",
      "filename = 'getting-to-yes' len(docs) = 9\n",
      "filename = '48-laws-of-power' len(docs) = 7\n",
      "filename = 'igital-twin' len(docs) = 15\n",
      "filename = 'predicting_the_stock_market_is_easier_than_you_think' len(docs) = 5\n",
      "filename = 'ramble' len(docs) = 3\n",
      "filename = 'pitch-prediction-module-monitor' len(docs) = 7\n",
      "filename = 'the-use-and-practice-of-scientific-machine-learning' len(docs) = 6\n",
      "filename = 'acme-rl-building-blocks' len(docs) = 3\n",
      "filename = 'job_search_drw_20230731' len(docs) = 7\n",
      "filename = 'shields-down' len(docs) = 4\n",
      "filename = 'eepmind_muzero' len(docs) = 22\n",
      "filename = 'jax' len(docs) = 7\n",
      "filename = 'bullshit-jobs' len(docs) = 3\n",
      "filename = 'emories' len(docs) = 12\n",
      "filename = 'job_search_publications' len(docs) = 23\n",
      "filename = 'ultilevel-modeling' len(docs) = 3\n",
      "filename = 'AI-team-revamp' len(docs) = 100\n",
      "filename = 'bayesian_optimization' len(docs) = 20\n",
      "filename = 'statistics-sensitivity-analysis' len(docs) = 81\n",
      "filename = 'state-of-ml-in-julia' len(docs) = 10\n",
      "filename = '100-lessons-from-1-year-of-AI-research' len(docs) = 25\n",
      "filename = 'ai-canvas' len(docs) = 4\n",
      "filename = 'prioritization-the-other-definition' len(docs) = 7\n",
      "filename = 'big_O' len(docs) = 5\n",
      "filename = 'finance_live_dashboar' len(docs) = 5\n",
      "filename = 'ebate-bengio-marcus' len(docs) = 4\n",
      "filename = 'bash' len(docs) = 4\n",
      "filename = 'start-ups' len(docs) = 17\n",
      "filename = 'job_search_meta_mleng_20221007' len(docs) = 9\n",
      "filename = 'principle-of-least-action' len(docs) = 6\n",
      "filename = 'google_digital_buildings_ontology' len(docs) = 8\n",
      "filename = 'ila-extensions' len(docs) = 5\n",
      "filename = 'awk' len(docs) = 1\n",
      "filename = 'the-art-of-seduction' len(docs) = 2\n",
      "filename = 'ba_linkedin_post' len(docs) = 8\n",
      "filename = 'programming_tags' len(docs) = 2\n",
      "filename = '200k_biohacking' len(docs) = 13\n",
      "filename = 'robotics' len(docs) = 1\n",
      "filename = 'pitch-prediction-module-interface' len(docs) = 26\n",
      "filename = 'clearml' len(docs) = 12\n",
      "filename = 'progressive-summarization' len(docs) = 11\n",
      "filename = 'vi' len(docs) = 9\n",
      "filename = 'tmux' len(docs) = 3\n",
      "filename = 'oop-is-dead-long-live-data-oriented-design' len(docs) = 3\n",
      "filename = 'way-of-the-wolf' len(docs) = 4\n",
      "filename = 'physical-simulations' len(docs) = 27\n",
      "filename = 'saas_metrics' len(docs) = 11\n",
      "filename = 'git' len(docs) = 10\n",
      "filename = 'health' len(docs) = 4\n",
      "filename = 'arkdown_cheatsheet' len(docs) = 7\n",
      "filename = 'pytest' len(docs) = 7\n",
      "filename = 'inbox' len(docs) = 60\n",
      "filename = 'tfp-distributions' len(docs) = 57\n",
      "filename = 'ila-applied_ml' len(docs) = 18\n",
      "filename = 'visulize-pytorch-model' len(docs) = 6\n",
      "filename = 'penrose' len(docs) = 5\n",
      "filename = 'parallel' len(docs) = 4\n",
      "filename = 'odels-at-brainbox' len(docs) = 19\n",
      "filename = 'julia_node_work_file_explanations' len(docs) = 4\n",
      "filename = 'udemy-course-kubernetes' len(docs) = 33\n",
      "filename = 'ila-pierre-luc-extension' len(docs) = 11\n",
      "filename = 'the-10-commandments-of-salary-negotiation' len(docs) = 11\n",
      "filename = 'the-leader-you-want-to-be' len(docs) = 74\n",
      "filename = 'influencing-notes' len(docs) = 11\n",
      "filename = 'self-managed-tea' len(docs) = 13\n",
      "filename = 'klotho' len(docs) = 1\n",
      "filename = 'worth-the-time' len(docs) = 1\n",
      "filename = 'bargaining-for-advantage' len(docs) = 24\n",
      "filename = 'causality' len(docs) = 11\n",
      "filename = 'conversation-with-cole' len(docs) = 6\n",
      "filename = 'great-at-work' len(docs) = 11\n",
      "filename = 'pitch-prediction-module-model-management' len(docs) = 32\n",
      "filename = 'linear-mpc-and-kalman-filters' len(docs) = 21\n",
      "filename = 'articles' len(docs) = 7\n",
      "filename = 'farm-stack' len(docs) = 2\n",
      "filename = 'rtu-solution' len(docs) = 32\n",
      "filename = 'attention' len(docs) = 5\n",
      "filename = 'atabases' len(docs) = 10\n",
      "filename = 'saas-financial-models' len(docs) = 10\n",
      "filename = 'ila-timl' len(docs) = 62\n"
     ]
    }
   ],
   "source": [
    "# Small sample:\n",
    "# markdown_chunked_with_embeddings_dict = chunk_and_embed_markdown_list(markdown[0:4], get_embeddings, markdown_splitter)\n",
    "# Whole:\n",
    "markdown_chunked_with_embeddings_dict = chunk_and_embed_markdown_list(markdown, get_embeddings, markdown_splitter)"
   ]
  },
  {
   "cell_type": "code",
   "execution_count": 19,
   "metadata": {
    "scrolled": true
   },
   "outputs": [
    {
     "data": {
      "text/plain": [
       "{'filename': 'f1-score',\n",
       " 'chunk': 0,\n",
       " 'content': '# F1 Score + https://towardsdatascience.com/essential-things-you-need-to-know-about-f1-score-dbd973bf1a3#4c6c  It elegantly sums up the predictive performance of a model by combining two otherwise competing metrics — precision and recall.  The F1-score combines the precision and recall of a classifier into a single metric by taking their harmonic mean.  ![F1-score](../attachments/2022-09-12-16-45-22.png)  ![F$\\\\beta$-score](../attachments/2022-09-12-16-46-03.png)',\n",
       " 'embedding': array([-2.20532380e-02,  1.65950786e-02, -1.50262594e-01,  7.04540536e-02,\n",
       "         1.57093450e-01,  2.19882607e-01, -8.08976591e-02,  1.87099800e-01,\n",
       "        -1.57669615e-02, -6.37944564e-02, -5.52010201e-02,  2.37642955e-02,\n",
       "         4.69979644e-02,  3.81946303e-02, -1.98962644e-01, -6.01677373e-02,\n",
       "        -1.29009867e-02, -2.84887943e-02, -1.31512448e-01, -2.18770429e-02,\n",
       "         8.30226671e-03,  7.33558554e-03,  2.05633014e-01,  6.88445643e-02,\n",
       "         2.62097418e-02,  3.66252996e-02, -1.76974550e-01,  1.13716692e-01,\n",
       "        -2.03766599e-02, -1.07670926e-01,  1.04683585e-01,  1.23172194e-01,\n",
       "         4.29475941e-02,  8.26293752e-02, -2.25810543e-01,  7.14977598e-03,\n",
       "         3.05257202e-03, -8.57266970e-03,  1.69712037e-01, -4.53942455e-02,\n",
       "        -5.98555021e-02, -1.63611919e-01,  1.16405115e-01,  6.05797507e-02,\n",
       "         9.67434421e-02,  9.56767797e-03, -8.29785913e-02, -3.30998227e-02,\n",
       "         5.83651699e-02,  2.34146714e-02, -1.38958335e-01,  1.00115843e-01,\n",
       "        -1.77331790e-01,  2.39478573e-02, -4.50630113e-02,  1.14114270e-01,\n",
       "         7.33597577e-02, -1.37869626e-01, -1.33999944e-01, -4.35011238e-02,\n",
       "        -4.03648429e-02, -1.10315561e-01, -1.06808379e-01,  5.13200834e-02,\n",
       "         1.19593412e-01, -6.97713494e-02, -8.14529508e-02, -1.39734358e-01,\n",
       "        -2.67471615e-02,  1.00636438e-01,  4.15261127e-02,  8.76515657e-02,\n",
       "        -7.04220869e-03, -4.84988876e-02,  7.74981752e-02,  9.16947946e-02,\n",
       "        -3.55058759e-02,  1.40172988e-01,  2.56664474e-02,  7.16633126e-02,\n",
       "        -4.77590971e-03, -4.62078638e-02, -2.64610983e-02, -7.72234872e-02,\n",
       "         1.38057515e-01,  2.19950061e-02,  6.66812956e-02, -1.34843394e-01,\n",
       "        -8.04662108e-02,  8.48438591e-02,  1.35148820e-02, -9.88817886e-02,\n",
       "         5.17836027e-02,  3.22663784e-03, -1.30357504e-01,  5.42667434e-02,\n",
       "        -1.55394636e-02, -1.32233828e-01, -8.89836438e-03,  1.24054000e-01,\n",
       "        -9.56360027e-02,  2.05393016e-01, -9.02376324e-02, -1.53296918e-01,\n",
       "         5.37115857e-02, -4.42836396e-02,  1.44084217e-02,  8.82854313e-02,\n",
       "         4.87794494e-03, -1.59095898e-01,  4.05863151e-02, -3.29317451e-02,\n",
       "        -9.03884321e-02,  5.40646650e-02, -5.52149490e-02,  1.99237093e-02,\n",
       "        -3.75351720e-02,  6.72752708e-02,  1.89793810e-01,  1.25540733e-01,\n",
       "         5.14306016e-02, -7.30570927e-02,  3.03374212e-02,  3.30853090e-02,\n",
       "        -5.19584864e-02, -1.04345731e-01, -2.12153673e-01,  2.77293534e-33,\n",
       "        -3.52535024e-02,  7.35218152e-02,  1.62908375e-01,  1.80241819e-02,\n",
       "        -3.29292528e-02, -5.82413599e-02, -1.86470434e-01, -1.06159430e-02,\n",
       "        -3.60560860e-03,  5.45284301e-02, -8.38030428e-02,  1.26117542e-01,\n",
       "        -6.59245849e-02,  4.80114296e-02,  1.30463794e-01,  6.16680505e-03,\n",
       "        -1.38138011e-01, -4.44491021e-02, -3.24268974e-02,  3.63346264e-02,\n",
       "         1.31178439e-01,  9.47871525e-03,  1.21560536e-01, -1.26026571e-01,\n",
       "         1.16228893e-01,  1.31955892e-01,  2.65674619e-03,  1.27541885e-01,\n",
       "        -1.49197951e-01,  8.11042935e-02, -5.60476631e-02, -2.02757344e-02,\n",
       "        -7.05788359e-02, -5.50618321e-02,  8.70541036e-02, -2.34172828e-02,\n",
       "        -7.55560994e-02, -1.42084688e-01,  2.75236145e-02, -3.19373538e-03,\n",
       "        -4.30133045e-02, -4.29458842e-02, -1.39907867e-01, -1.21185906e-01,\n",
       "        -6.02468736e-02, -4.82170507e-02, -6.14420101e-02,  1.22475885e-02,\n",
       "         5.03118709e-02,  2.10768193e-01, -4.81491648e-02, -1.19134612e-01,\n",
       "         4.46950197e-02, -1.19693531e-02, -7.11996779e-02,  8.40526223e-02,\n",
       "        -2.49031722e-03, -4.51509058e-02, -9.99716967e-02,  2.09615938e-02,\n",
       "        -4.05995362e-02, -4.70582047e-04, -3.53022069e-02, -5.10034785e-02,\n",
       "        -8.62679556e-02,  3.44634354e-02,  7.02581480e-02,  1.27182901e-01,\n",
       "         4.40415926e-02,  5.98397776e-02,  1.91551521e-02,  3.11090834e-02,\n",
       "         2.42123590e-03, -9.62176919e-02,  6.58343360e-02, -1.31051000e-02,\n",
       "         1.22597218e-01, -1.99290961e-01,  6.45748228e-02, -6.30074888e-02,\n",
       "        -2.81652361e-02, -5.74292475e-03, -6.80647939e-02, -2.15853199e-01,\n",
       "        -3.95540483e-02,  1.42043948e-01,  8.97387490e-02, -5.51673360e-02,\n",
       "        -1.21545650e-01, -3.21209291e-03, -5.69259785e-02,  9.45398062e-02,\n",
       "        -2.18465552e-02,  1.00867651e-01, -4.58476059e-02, -5.54927373e-33,\n",
       "        -1.59948040e-02, -1.03977881e-02, -6.84378669e-02,  8.83742645e-02,\n",
       "         7.94971138e-02, -6.40105978e-02, -1.13048196e-01, -4.96298186e-02,\n",
       "        -9.51881260e-02,  2.90143918e-02,  5.57094552e-02, -2.95002963e-02,\n",
       "        -6.48875013e-02, -9.84582156e-02, -9.78897661e-02, -2.50669140e-02,\n",
       "        -1.53143993e-02, -1.50633037e-01, -1.18134014e-01,  1.12219147e-01,\n",
       "         7.82219991e-02,  1.33651033e-01,  1.29577160e-01,  2.33595259e-02,\n",
       "        -1.59273356e-01,  3.61088701e-02,  5.77700697e-02, -8.04066211e-02,\n",
       "        -8.91623124e-02, -1.10735878e-01,  5.05417883e-02, -5.69083244e-02,\n",
       "         5.76600134e-02, -6.29722252e-02, -1.77408680e-02, -3.07615716e-02,\n",
       "         1.56738371e-01, -8.26204121e-02,  2.22580526e-02,  2.25207269e-01,\n",
       "         1.08724810e-01,  1.88435331e-01, -1.37737155e-01, -5.71880750e-02,\n",
       "         2.66655069e-02,  9.24482569e-02, -9.25526675e-03, -5.38396975e-03,\n",
       "         1.64143071e-01,  7.48688057e-02,  1.43162711e-02, -4.62927856e-02,\n",
       "        -1.82013154e-01,  1.24750473e-01, -1.18194133e-01, -1.46603182e-01,\n",
       "         5.76978475e-02, -5.35472296e-02, -1.44576296e-01,  1.81135938e-01,\n",
       "         3.28097306e-02,  8.04094747e-02, -1.28774732e-01,  8.95671472e-02,\n",
       "         9.25650299e-02, -1.08957857e-01, -3.02845631e-02, -3.43305133e-02,\n",
       "        -3.85409817e-02,  2.96130508e-01, -1.67437363e-02, -3.42838727e-02,\n",
       "         3.56312208e-02,  9.61865559e-02, -6.53850362e-02, -2.01963726e-02,\n",
       "         3.45176421e-02,  8.68250504e-02,  2.50211563e-02,  3.70817408e-02,\n",
       "        -4.41392511e-02,  5.67433350e-02, -6.54130727e-02,  4.38249521e-02,\n",
       "        -7.85392821e-02,  1.05293030e-02,  1.41303554e-01,  1.27464548e-01,\n",
       "        -5.60777225e-02, -3.02739292e-02, -4.58922982e-02,  2.31719613e-01,\n",
       "         2.30999943e-02, -1.13891652e-02, -4.42794599e-02, -9.94112384e-08,\n",
       "         2.64227968e-02, -1.07510671e-01, -6.17227741e-02,  5.09215258e-02,\n",
       "         2.94873095e-03, -2.80039618e-03, -1.68614730e-01, -3.86461988e-02,\n",
       "        -9.58630815e-02, -2.30250806e-02,  8.65267664e-02,  9.75339785e-02,\n",
       "        -1.34113073e-01, -2.04165336e-02,  2.32661329e-03,  3.19720805e-02,\n",
       "         7.96088725e-02,  2.28732750e-01, -7.33620152e-02, -6.39302880e-02,\n",
       "         8.39529335e-02, -3.68230743e-04,  6.13936372e-02, -8.17857683e-02,\n",
       "         2.16955654e-02, -3.18294466e-02, -3.11137480e-03,  1.82155520e-01,\n",
       "        -4.44053225e-02,  1.64572716e-01,  7.37779029e-03,  8.96324739e-02,\n",
       "         4.80736746e-03, -1.55197859e-01, -7.35511705e-02,  1.25118762e-01,\n",
       "         8.56151879e-02, -6.97255135e-02, -2.01461483e-02,  5.02744280e-02,\n",
       "         3.12947785e-03,  4.63217609e-02, -6.79015517e-02,  1.73422340e-02,\n",
       "         3.82497720e-02, -5.19464538e-03,  7.50347301e-02,  2.07426604e-02,\n",
       "        -5.14469258e-02,  5.05032763e-02,  5.15750796e-02, -6.82608504e-03,\n",
       "        -1.59463465e-01,  8.98888335e-02, -3.66246551e-02,  5.28669469e-02,\n",
       "        -4.85429494e-03, -4.75409590e-02, -5.07596470e-02, -5.53018637e-02,\n",
       "         1.63228631e-01, -2.98936199e-02,  1.74941681e-02,  6.58693463e-02],\n",
       "       dtype=float32)}"
      ]
     },
     "execution_count": 19,
     "metadata": {},
     "output_type": "execute_result"
    }
   ],
   "source": [
    "markdown_chunked_with_embeddings_dict[0]"
   ]
  },
  {
   "cell_type": "code",
   "execution_count": 20,
   "metadata": {},
   "outputs": [
    {
     "data": {
      "text/plain": [
       "Dataset({\n",
       "    features: ['filename', 'chunk', 'content', 'embedding'],\n",
       "    num_rows: 2547\n",
       "})"
      ]
     },
     "execution_count": 20,
     "metadata": {},
     "output_type": "execute_result"
    }
   ],
   "source": [
    "# Convert into a datasets object\n",
    "markdown_chunked_with_embeddings = Dataset.from_pandas(pd.DataFrame(data=markdown_chunked_with_embeddings_dict))\n",
    "markdown_chunked_with_embeddings"
   ]
  },
  {
   "cell_type": "code",
   "execution_count": 21,
   "metadata": {},
   "outputs": [
    {
     "data": {
      "application/vnd.jupyter.widget-view+json": {
       "model_id": "7478ada3d49f4a299ad965dab0d20b15",
       "version_major": 2,
       "version_minor": 0
      },
      "text/plain": [
       "  0%|          | 0/3 [00:00<?, ?it/s]"
      ]
     },
     "metadata": {},
     "output_type": "display_data"
    },
    {
     "data": {
      "text/plain": [
       "Dataset({\n",
       "    features: ['filename', 'chunk', 'content', 'embedding'],\n",
       "    num_rows: 2547\n",
       "})"
      ]
     },
     "execution_count": 21,
     "metadata": {},
     "output_type": "execute_result"
    }
   ],
   "source": [
    "# Add a FAISS index for quicker search (instead of cosine-similarity or ElasticSearch)\n",
    "markdown_chunked_with_embeddings.add_faiss_index(column=\"embedding\")"
   ]
  },
  {
   "cell_type": "code",
   "execution_count": 22,
   "metadata": {},
   "outputs": [],
   "source": [
    "question = \"salary negotiation\"\n",
    "question_embedding = get_embeddings([question]).cpu().detach().numpy()\n",
    "\n",
    "scores, samples = markdown_chunked_with_embeddings.get_nearest_examples(\n",
    "    \"embedding\", question_embedding, k=5\n",
    ")"
   ]
  },
  {
   "cell_type": "code",
   "execution_count": 23,
   "metadata": {},
   "outputs": [
    {
     "data": {
      "text/plain": [
       "array([41.482548, 42.33096 , 42.67369 , 42.77999 , 43.298336],\n",
       "      dtype=float32)"
      ]
     },
     "execution_count": 23,
     "metadata": {},
     "output_type": "execute_result"
    }
   ],
   "source": [
    "scores"
   ]
  },
  {
   "cell_type": "code",
   "execution_count": 24,
   "metadata": {},
   "outputs": [
    {
     "data": {
      "text/plain": [
       "[\"state objectively why that         amount if what I'm entitled to, I think I'll do better in court. Why don't         we study the matter and talk again? Is Wednesday 11 a good time to talk? 6.  What if they're more powerful? Develop your _best alternative to a negotiated     agreement_     - Job case: find another job that pays the same or more; building leverage         over the negotiation     - Even if the other side is more powerful; negotiate on matters you have         equal or better\",\n",
       " 'are to better build the approaches needed to gain the advantage you want; about setting expectations and building relationships. - [[getting-to-yes]]: classic book on negotiation based on working together on a problem instead of working on the person. - [[the-10-commandments-of-salary-negotiation]] and <https://candor.co/offers> - [[business-model-generation]]: shaping a product, offering, customers, finances. - [[influencing-notes]]: notes from an exchange with my aunt.  ### Management  -',\n",
       " 'Duolingo) and build your experience as a full-time employee.   ### Getting Paid: Hourly based, not project {#getting-paid-hourly-based-not-project}  He charges $150-200/hr. More for smaller projects, less for longer projects. Price is fixed, negotiation is based on the number of hours. Aim for a price where 50% of the clients will say \"no\".   ### Finding clients: conferences, network, careers page {#finding-clients-conferences-network-careers-page}  Contracts don\\'t last more than a few months,',\n",
       " 'in to the pressure  + Once a role is offered, the recruiter\\'s job shifts from evaluation to closing. Don\\'t give in to pressure! Don\\'t give a number!  4. At FAANG, your recruiter may have no say at all  + Salaries are basically algorithmically calculated based on input and interview performance + You need to bring a new offer as \"new information\" to reopen a negotiation  5. Read between the lines  + **Initial offer comes in low**: The team may have felt that you have a lot of “room for growth.”',\n",
       " 'salary based on my skills, what I can offer to the team, and company benefits. Is there a certain budget that you had in mind?\\'\"  ## Tell me about yourself I\\'m a very curious person. Never quite grew up.  I take things apart and put them back together. And sometimes, in a completely different way. I\\'m a tinkerer, an inventor (2 patents pending), a lover for knowledge on a journey to become a polymath.  I\\'ve led a team of a little over ten to build a whole pipeline to train and ship models; all']"
      ]
     },
     "execution_count": 24,
     "metadata": {},
     "output_type": "execute_result"
    }
   ],
   "source": [
    "samples['content']"
   ]
  },
  {
   "cell_type": "code",
   "execution_count": 25,
   "metadata": {},
   "outputs": [
    {
     "data": {
      "text/plain": [
       "(['getting-to-yes',\n",
       "  'inbox',\n",
       "  'freelancing',\n",
       "  'the-10-commandments-of-salary-negotiation',\n",
       "  'job_search_linkedin_notes'],\n",
       " [5, 33, 3, 1, 19])"
      ]
     },
     "execution_count": 25,
     "metadata": {},
     "output_type": "execute_result"
    }
   ],
   "source": [
    "samples[\"filename\"], samples[\"chunk\"]"
   ]
  },
  {
   "cell_type": "markdown",
   "metadata": {},
   "source": [
    "## UMAP representation of the embeddings"
   ]
  },
  {
   "cell_type": "code",
   "execution_count": 26,
   "metadata": {},
   "outputs": [
    {
     "name": "stderr",
     "output_type": "stream",
     "text": [
      "/home/taylor/.cache/pypoetry/virtualenvs/umap-k_NI0X-y-py3.10/lib/python3.10/site-packages/umap/distances.py:1063: NumbaDeprecationWarning: The 'nopython' keyword argument was not supplied to the 'numba.jit' decorator. The implicit default value for this argument is currently False, but it will be changed to True in Numba 0.59.0. See https://numba.readthedocs.io/en/stable/reference/deprecation.html#deprecation-of-object-mode-fall-back-behaviour-when-using-jit for details.\n",
      "  @numba.jit()\n",
      "/home/taylor/.cache/pypoetry/virtualenvs/umap-k_NI0X-y-py3.10/lib/python3.10/site-packages/umap/distances.py:1071: NumbaDeprecationWarning: The 'nopython' keyword argument was not supplied to the 'numba.jit' decorator. The implicit default value for this argument is currently False, but it will be changed to True in Numba 0.59.0. See https://numba.readthedocs.io/en/stable/reference/deprecation.html#deprecation-of-object-mode-fall-back-behaviour-when-using-jit for details.\n",
      "  @numba.jit()\n",
      "/home/taylor/.cache/pypoetry/virtualenvs/umap-k_NI0X-y-py3.10/lib/python3.10/site-packages/umap/distances.py:1086: NumbaDeprecationWarning: The 'nopython' keyword argument was not supplied to the 'numba.jit' decorator. The implicit default value for this argument is currently False, but it will be changed to True in Numba 0.59.0. See https://numba.readthedocs.io/en/stable/reference/deprecation.html#deprecation-of-object-mode-fall-back-behaviour-when-using-jit for details.\n",
      "  @numba.jit()\n",
      "/home/taylor/.cache/pypoetry/virtualenvs/umap-k_NI0X-y-py3.10/lib/python3.10/site-packages/umap/umap_.py:660: NumbaDeprecationWarning: The 'nopython' keyword argument was not supplied to the 'numba.jit' decorator. The implicit default value for this argument is currently False, but it will be changed to True in Numba 0.59.0. See https://numba.readthedocs.io/en/stable/reference/deprecation.html#deprecation-of-object-mode-fall-back-behaviour-when-using-jit for details.\n",
      "  @numba.jit()\n",
      "/home/taylor/.cache/pypoetry/virtualenvs/umap-k_NI0X-y-py3.10/lib/python3.10/site-packages/umap/plot.py:203: NumbaDeprecationWarning: The 'nopython' keyword argument was not supplied to the 'numba.jit' decorator. The implicit default value for this argument is currently False, but it will be changed to True in Numba 0.59.0. See https://numba.readthedocs.io/en/stable/reference/deprecation.html#deprecation-of-object-mode-fall-back-behaviour-when-using-jit for details.\n",
      "  @numba.jit()\n"
     ]
    }
   ],
   "source": [
    "import matplotlib.pyplot as plt\n",
    "import umap\n",
    "import umap.plot"
   ]
  },
  {
   "cell_type": "code",
   "execution_count": 63,
   "metadata": {},
   "outputs": [],
   "source": [
    "import bokeh\n",
    "from bokeh.io import output_notebook \n",
    "from bokeh.plotting import show"
   ]
  },
  {
   "cell_type": "code",
   "execution_count": 34,
   "metadata": {},
   "outputs": [],
   "source": [
    "filename_chunks = [md[\"filename\"]+\"-\"+str(md[\"chunk\"]) for md in markdown_chunked_with_embeddings]  # needed since these are not target categories for me\n",
    "sentence_transformer_embeddings = [md[\"embedding\"] for md in markdown_chunked_with_embeddings]"
   ]
  },
  {
   "cell_type": "code",
   "execution_count": 38,
   "metadata": {},
   "outputs": [],
   "source": [
    "umap_embeddings = umap.UMAP().fit(X=sentence_transformer_embeddings)\n",
    "# UMAP can also take in additional arguments: UMAP(n_neighbors=5, min_dist=0.3, metric='correlation')"
   ]
  },
  {
   "cell_type": "code",
   "execution_count": 51,
   "metadata": {},
   "outputs": [
    {
     "name": "stderr",
     "output_type": "stream",
     "text": [
      "/home/taylor/.cache/pypoetry/virtualenvs/umap-k_NI0X-y-py3.10/lib/python3.10/site-packages/umap/plot.py:448: UserWarning: *c* argument looks like a single numeric RGB or RGBA sequence, which should be avoided as value-mapping will have precedence in case its length matches with *x* & *y*.  Please use the *color* keyword-argument or provide a 2D array with a single row if you intend to specify the same RGB or RGBA value for all points.\n",
      "  ax.scatter(points[:, 0], points[:, 1], s=point_size, c=color)\n"
     ]
    },
    {
     "data": {
      "image/png": "[encoded data removed]",
      "text/plain": [
       "<Figure size 800x800 with 1 Axes>"
      ]
     },
     "metadata": {},
     "output_type": "display_data"
    }
   ],
   "source": [
    "f = umap.plot.points(umap_embeddings)"
   ]
  },
  {
   "cell_type": "code",
   "execution_count": 67,
   "metadata": {},
   "outputs": [
    {
     "data": {
      "text/html": [
       "<style>\n",
       "        .bk-notebook-logo {\n",
       "            display: block;\n",
       "            width: 20px;\n",
       "            height: 20px;\n",
       "            background-image: url(data:image/png;base64,iVBORw0KGgoAAAANSUhEUgAAABQAAAAUCAYAAACNiR0NAAAABHNCSVQICAgIfAhkiAAAAAlwSFlzAAALEgAACxIB0t1+/AAAABx0RVh0U29mdHdhcmUAQWRvYmUgRmlyZXdvcmtzIENTNui8sowAAAOkSURBVDiNjZRtaJVlGMd/1/08zzln5zjP1LWcU9N0NkN8m2CYjpgQYQXqSs0I84OLIC0hkEKoPtiH3gmKoiJDU7QpLgoLjLIQCpEsNJ1vqUOdO7ppbuec5+V+rj4ctwzd8IIbbi6u+8f1539dt3A78eXC7QizUF7gyV1fD1Yqg4JWz84yffhm0qkFqBogB9rM8tZdtwVsPUhWhGcFJngGeWrPzHm5oaMmkfEg1usvLFyc8jLRqDOMru7AyC8saQr7GG7f5fvDeH7Ej8CM66nIF+8yngt6HWaKh7k49Soy9nXurCi1o3qUbS3zWfrYeQDTB/Qj6kX6Ybhw4B+bOYoLKCC9H3Nu/leUTZ1JdRWkkn2ldcCamzrcf47KKXdAJllSlxAOkRgyHsGC/zRday5Qld9DyoM4/q/rUoy/CXh3jzOu3bHUVZeU+DEn8FInkPBFlu3+nW3Nw0mk6vCDiWg8CeJaxEwuHS3+z5RgY+YBR6V1Z1nxSOfoaPa4LASWxxdNp+VWTk7+4vzaou8v8PN+xo+KY2xsw6une2frhw05CTYOmQvsEhjhWjn0bmXPjpE1+kplmmkP3suftwTubK9Vq22qKmrBhpY4jvd5afdRA3wGjFAgcnTK2s4hY0/GPNIb0nErGMCRxWOOX64Z8RAC4oCXdklmEvcL8o0BfkNK4lUg9HTl+oPlQxdNo3Mg4Nv175e/1LDGzZen30MEjRUtmXSfiTVu1kK8W4txyV6BMKlbgk3lMwYCiusNy9fVfvvwMxv8Ynl6vxoByANLTWplvuj/nF9m2+PDtt1eiHPBr1oIfhCChQMBw6Aw0UulqTKZdfVvfG7VcfIqLG9bcldL/+pdWTLxLUy8Qq38heUIjh4XlzZxzQm19lLFlr8vdQ97rjZVOLf8nclzckbcD4wxXMidpX30sFd37Fv/GtwwhzhxGVAprjbg0gCAEeIgwCZyTV2Z1REEW8O4py0wsjeloKoMr6iCY6dP92H6Vw/oTyICIthibxjm/DfN9lVz8IqtqKYLUXfoKVMVQVVJOElGjrnnUt9T9wbgp8AyYKaGlqingHZU/uG2NTZSVqwHQTWkx9hxjkpWDaCg6Ckj5qebgBVbT3V3NNXMSiWSDdGV3hrtzla7J+duwPOToIg42ChPQOQjspnSlp1V+Gjdged7+8UN5CRAV7a5EdFNwCjEaBR27b3W890TE7g24NAP/mMDXRWrGoFPQI9ls/MWO2dWFAar/xcOIImbbpA3zgAAAABJRU5ErkJggg==);\n",
       "        }\n",
       "    </style>\n",
       "    <div>\n",
       "        <a href=\"https://bokeh.org\" target=\"_blank\" class=\"bk-notebook-logo\"></a>\n",
       "        <span id=\"e8dc6cfa-30a4-43e3-9a38-d55a340d540e\">Loading BokehJS ...</span>\n",
       "    </div>\n"
      ]
     },
     "metadata": {},
     "output_type": "display_data"
    },
    {
     "data": {
      "application/javascript": [
       "(function(root) {\n",
       "  function now() {\n",
       "    return new Date();\n",
       "  }\n",
       "\n",
       "  const force = true;\n",
       "\n",
       "  if (typeof root._bokeh_onload_callbacks === \"undefined\" || force === true) {\n",
       "    root._bokeh_onload_callbacks = [];\n",
       "    root._bokeh_is_loading = undefined;\n",
       "  }\n",
       "\n",
       "const JS_MIME_TYPE = 'application/javascript';\n",
       "  const HTML_MIME_TYPE = 'text/html';\n",
       "  const EXEC_MIME_TYPE = 'application/vnd.bokehjs_exec.v0+json';\n",
       "  const CLASS_NAME = 'output_bokeh rendered_html';\n",
       "\n",
       "  /**\n",
       "   * Render data to the DOM node\n",
       "   */\n",
       "  function render(props, node) {\n",
       "    const script = document.createElement(\"script\");\n",
       "    node.appendChild(script);\n",
       "  }\n",
       "\n",
       "  /**\n",
       "   * Handle when an output is cleared or removed\n",
       "   */\n",
       "  function handleClearOutput(event, handle) {\n",
       "    const cell = handle.cell;\n",
       "\n",
       "    const id = cell.output_area._bokeh_element_id;\n",
       "    const server_id = cell.output_area._bokeh_server_id;\n",
       "    // Clean up Bokeh references\n",
       "    if (id != null && id in Bokeh.index) {\n",
       "      Bokeh.index[id].model.document.clear();\n",
       "      delete Bokeh.index[id];\n",
       "    }\n",
       "\n",
       "    if (server_id !== undefined) {\n",
       "      // Clean up Bokeh references\n",
       "      const cmd_clean = \"from bokeh.io.state import curstate; print(curstate().uuid_to_server['\" + server_id + \"'].get_sessions()[0].document.roots[0]._id)\";\n",
       "      cell.notebook.kernel.execute(cmd_clean, {\n",
       "        iopub: {\n",
       "          output: function(msg) {\n",
       "            const id = msg.content.text.trim();\n",
       "            if (id in Bokeh.index) {\n",
       "              Bokeh.index[id].model.document.clear();\n",
       "              delete Bokeh.index[id];\n",
       "            }\n",
       "          }\n",
       "        }\n",
       "      });\n",
       "      // Destroy server and session\n",
       "      const cmd_destroy = \"import bokeh.io.notebook as ion; ion.destroy_server('\" + server_id + \"')\";\n",
       "      cell.notebook.kernel.execute(cmd_destroy);\n",
       "    }\n",
       "  }\n",
       "\n",
       "  /**\n",
       "   * Handle when a new output is added\n",
       "   */\n",
       "  function handleAddOutput(event, handle) {\n",
       "    const output_area = handle.output_area;\n",
       "    const output = handle.output;\n",
       "\n",
       "    // limit handleAddOutput to display_data with EXEC_MIME_TYPE content only\n",
       "    if ((output.output_type != \"display_data\") || (!Object.prototype.hasOwnProperty.call(output.data, EXEC_MIME_TYPE))) {\n",
       "      return\n",
       "    }\n",
       "\n",
       "    const toinsert = output_area.element.find(\".\" + CLASS_NAME.split(' ')[0]);\n",
       "\n",
       "    if (output.metadata[EXEC_MIME_TYPE][\"id\"] !== undefined) {\n",
       "      toinsert[toinsert.length - 1].firstChild.textContent = output.data[JS_MIME_TYPE];\n",
       "      // store reference to embed id on output_area\n",
       "      output_area._bokeh_element_id = output.metadata[EXEC_MIME_TYPE][\"id\"];\n",
       "    }\n",
       "    if (output.metadata[EXEC_MIME_TYPE][\"server_id\"] !== undefined) {\n",
       "      const bk_div = document.createElement(\"div\");\n",
       "      bk_div.innerHTML = output.data[HTML_MIME_TYPE];\n",
       "      const script_attrs = bk_div.children[0].attributes;\n",
       "      for (let i = 0; i < script_attrs.length; i++) {\n",
       "        toinsert[toinsert.length - 1].firstChild.setAttribute(script_attrs[i].name, script_attrs[i].value);\n",
       "        toinsert[toinsert.length - 1].firstChild.textContent = bk_div.children[0].textContent\n",
       "      }\n",
       "      // store reference to server id on output_area\n",
       "      output_area._bokeh_server_id = output.metadata[EXEC_MIME_TYPE][\"server_id\"];\n",
       "    }\n",
       "  }\n",
       "\n",
       "  function register_renderer(events, OutputArea) {\n",
       "\n",
       "    function append_mime(data, metadata, element) {\n",
       "      // create a DOM node to render to\n",
       "      const toinsert = this.create_output_subarea(\n",
       "        metadata,\n",
       "        CLASS_NAME,\n",
       "        EXEC_MIME_TYPE\n",
       "      );\n",
       "      this.keyboard_manager.register_events(toinsert);\n",
       "      // Render to node\n",
       "      const props = {data: data, metadata: metadata[EXEC_MIME_TYPE]};\n",
       "      render(props, toinsert[toinsert.length - 1]);\n",
       "      element.append(toinsert);\n",
       "      return toinsert\n",
       "    }\n",
       "\n",
       "    /* Handle when an output is cleared or removed */\n",
       "    events.on('clear_output.CodeCell', handleClearOutput);\n",
       "    events.on('delete.Cell', handleClearOutput);\n",
       "\n",
       "    /* Handle when a new output is added */\n",
       "    events.on('output_added.OutputArea', handleAddOutput);\n",
       "\n",
       "    /**\n",
       "     * Register the mime type and append_mime function with output_area\n",
       "     */\n",
       "    OutputArea.prototype.register_mime_type(EXEC_MIME_TYPE, append_mime, {\n",
       "      /* Is output safe? */\n",
       "      safe: true,\n",
       "      /* Index of renderer in `output_area.display_order` */\n",
       "      index: 0\n",
       "    });\n",
       "  }\n",
       "\n",
       "  // register the mime type if in Jupyter Notebook environment and previously unregistered\n",
       "  if (root.Jupyter !== undefined) {\n",
       "    const events = require('base/js/events');\n",
       "    const OutputArea = require('notebook/js/outputarea').OutputArea;\n",
       "\n",
       "    if (OutputArea.prototype.mime_types().indexOf(EXEC_MIME_TYPE) == -1) {\n",
       "      register_renderer(events, OutputArea);\n",
       "    }\n",
       "  }\n",
       "  if (typeof (root._bokeh_timeout) === \"undefined\" || force === true) {\n",
       "    root._bokeh_timeout = Date.now() + 5000;\n",
       "    root._bokeh_failed_load = false;\n",
       "  }\n",
       "\n",
       "  const NB_LOAD_WARNING = {'data': {'text/html':\n",
       "     \"<div style='background-color: #fdd'>\\n\"+\n",
       "     \"<p>\\n\"+\n",
       "     \"BokehJS does not appear to have successfully loaded. If loading BokehJS from CDN, this \\n\"+\n",
       "     \"may be due to a slow or bad network connection. Possible fixes:\\n\"+\n",
       "     \"</p>\\n\"+\n",
       "     \"<ul>\\n\"+\n",
       "     \"<li>re-rerun `output_notebook()` to attempt to load from CDN again, or</li>\\n\"+\n",
       "     \"<li>use INLINE resources instead, as so:</li>\\n\"+\n",
       "     \"</ul>\\n\"+\n",
       "     \"<code>\\n\"+\n",
       "     \"from bokeh.resources import INLINE\\n\"+\n",
       "     \"output_notebook(resources=INLINE)\\n\"+\n",
       "     \"</code>\\n\"+\n",
       "     \"</div>\"}};\n",
       "\n",
       "  function display_loaded() {\n",
       "    const el = document.getElementById(\"e8dc6cfa-30a4-43e3-9a38-d55a340d540e\");\n",
       "    if (el != null) {\n",
       "      el.textContent = \"BokehJS is loading...\";\n",
       "    }\n",
       "    if (root.Bokeh !== undefined) {\n",
       "      if (el != null) {\n",
       "        el.textContent = \"BokehJS \" + root.Bokeh.version + \" successfully loaded.\";\n",
       "      }\n",
       "    } else if (Date.now() < root._bokeh_timeout) {\n",
       "      setTimeout(display_loaded, 100)\n",
       "    }\n",
       "  }\n",
       "\n",
       "  function run_callbacks() {\n",
       "    try {\n",
       "      root._bokeh_onload_callbacks.forEach(function(callback) {\n",
       "        if (callback != null)\n",
       "          callback();\n",
       "      });\n",
       "    } finally {\n",
       "      delete root._bokeh_onload_callbacks\n",
       "    }\n",
       "    console.debug(\"Bokeh: all callbacks have finished\");\n",
       "  }\n",
       "\n",
       "  function load_libs(css_urls, js_urls, callback) {\n",
       "    if (css_urls == null) css_urls = [];\n",
       "    if (js_urls == null) js_urls = [];\n",
       "\n",
       "    root._bokeh_onload_callbacks.push(callback);\n",
       "    if (root._bokeh_is_loading > 0) {\n",
       "      console.debug(\"Bokeh: BokehJS is being loaded, scheduling callback at\", now());\n",
       "      return null;\n",
       "    }\n",
       "    if (js_urls == null || js_urls.length === 0) {\n",
       "      run_callbacks();\n",
       "      return null;\n",
       "    }\n",
       "    console.debug(\"Bokeh: BokehJS not loaded, scheduling load and callback at\", now());\n",
       "    root._bokeh_is_loading = css_urls.length + js_urls.length;\n",
       "\n",
       "    function on_load() {\n",
       "      root._bokeh_is_loading--;\n",
       "      if (root._bokeh_is_loading === 0) {\n",
       "        console.debug(\"Bokeh: all BokehJS libraries/stylesheets loaded\");\n",
       "        run_callbacks()\n",
       "      }\n",
       "    }\n",
       "\n",
       "    function on_error(url) {\n",
       "      console.error(\"failed to load \" + url);\n",
       "    }\n",
       "\n",
       "    for (let i = 0; i < css_urls.length; i++) {\n",
       "      const url = css_urls[i];\n",
       "      const element = document.createElement(\"link\");\n",
       "      element.onload = on_load;\n",
       "      element.onerror = on_error.bind(null, url);\n",
       "      element.rel = \"stylesheet\";\n",
       "      element.type = \"text/css\";\n",
       "      element.href = url;\n",
       "      console.debug(\"Bokeh: injecting link tag for BokehJS stylesheet: \", url);\n",
       "      document.body.appendChild(element);\n",
       "    }\n",
       "\n",
       "    for (let i = 0; i < js_urls.length; i++) {\n",
       "      const url = js_urls[i];\n",
       "      const element = document.createElement('script');\n",
       "      element.onload = on_load;\n",
       "      element.onerror = on_error.bind(null, url);\n",
       "      element.async = false;\n",
       "      element.src = url;\n",
       "      console.debug(\"Bokeh: injecting script tag for BokehJS library: \", url);\n",
       "      document.head.appendChild(element);\n",
       "    }\n",
       "  };\n",
       "\n",
       "  function inject_raw_css(css) {\n",
       "    const element = document.createElement(\"style\");\n",
       "    element.appendChild(document.createTextNode(css));\n",
       "    document.body.appendChild(element);\n",
       "  }\n",
       "\n",
       "  const js_urls = [\"https://cdn.bokeh.org/bokeh/release/bokeh-3.2.2.min.js\", \"https://cdn.bokeh.org/bokeh/release/bokeh-gl-3.2.2.min.js\", \"https://cdn.bokeh.org/bokeh/release/bokeh-widgets-3.2.2.min.js\", \"https://cdn.bokeh.org/bokeh/release/bokeh-tables-3.2.2.min.js\", \"https://cdn.bokeh.org/bokeh/release/bokeh-mathjax-3.2.2.min.js\", \"https://unpkg.com/@holoviz/panel@1.2.1/dist/panel.min.js\"];\n",
       "  const css_urls = [];\n",
       "\n",
       "  const inline_js = [    function(Bokeh) {\n",
       "      Bokeh.set_log_level(\"info\");\n",
       "    },\n",
       "function(Bokeh) {\n",
       "    }\n",
       "  ];\n",
       "\n",
       "  function run_inline_js() {\n",
       "    if (root.Bokeh !== undefined || force === true) {\n",
       "          for (let i = 0; i < inline_js.length; i++) {\n",
       "      inline_js[i].call(root, root.Bokeh);\n",
       "    }\n",
       "if (force === true) {\n",
       "        display_loaded();\n",
       "      }} else if (Date.now() < root._bokeh_timeout) {\n",
       "      setTimeout(run_inline_js, 100);\n",
       "    } else if (!root._bokeh_failed_load) {\n",
       "      console.log(\"Bokeh: BokehJS failed to load within specified timeout.\");\n",
       "      root._bokeh_failed_load = true;\n",
       "    } else if (force !== true) {\n",
       "      const cell = $(document.getElementById(\"e8dc6cfa-30a4-43e3-9a38-d55a340d540e\")).parents('.cell').data().cell;\n",
       "      cell.output_area.append_execute_result(NB_LOAD_WARNING)\n",
       "    }\n",
       "  }\n",
       "\n",
       "  if (root._bokeh_is_loading === 0) {\n",
       "    console.debug(\"Bokeh: BokehJS loaded, going straight to plotting\");\n",
       "    run_inline_js();\n",
       "  } else {\n",
       "    load_libs(css_urls, js_urls, function() {\n",
       "      console.debug(\"Bokeh: BokehJS plotting callback run at\", now());\n",
       "      run_inline_js();\n",
       "    });\n",
       "  }\n",
       "}(window));"
      ],
      "application/vnd.bokehjs_load.v0+json": "(function(root) {\n  function now() {\n    return new Date();\n  }\n\n  const force = true;\n\n  if (typeof root._bokeh_onload_callbacks === \"undefined\" || force === true) {\n    root._bokeh_onload_callbacks = [];\n    root._bokeh_is_loading = undefined;\n  }\n\n\n  if (typeof (root._bokeh_timeout) === \"undefined\" || force === true) {\n    root._bokeh_timeout = Date.now() + 5000;\n    root._bokeh_failed_load = false;\n  }\n\n  const NB_LOAD_WARNING = {'data': {'text/html':\n     \"<div style='background-color: #fdd'>\\n\"+\n     \"<p>\\n\"+\n     \"BokehJS does not appear to have successfully loaded. If loading BokehJS from CDN, this \\n\"+\n     \"may be due to a slow or bad network connection. Possible fixes:\\n\"+\n     \"</p>\\n\"+\n     \"<ul>\\n\"+\n     \"<li>re-rerun `output_notebook()` to attempt to load from CDN again, or</li>\\n\"+\n     \"<li>use INLINE resources instead, as so:</li>\\n\"+\n     \"</ul>\\n\"+\n     \"<code>\\n\"+\n     \"from bokeh.resources import INLINE\\n\"+\n     \"output_notebook(resources=INLINE)\\n\"+\n     \"</code>\\n\"+\n     \"</div>\"}};\n\n  function display_loaded() {\n    const el = document.getElementById(\"e8dc6cfa-30a4-43e3-9a38-d55a340d540e\");\n    if (el != null) {\n      el.textContent = \"BokehJS is loading...\";\n    }\n    if (root.Bokeh !== undefined) {\n      if (el != null) {\n        el.textContent = \"BokehJS \" + root.Bokeh.version + \" successfully loaded.\";\n      }\n    } else if (Date.now() < root._bokeh_timeout) {\n      setTimeout(display_loaded, 100)\n    }\n  }\n\n  function run_callbacks() {\n    try {\n      root._bokeh_onload_callbacks.forEach(function(callback) {\n        if (callback != null)\n          callback();\n      });\n    } finally {\n      delete root._bokeh_onload_callbacks\n    }\n    console.debug(\"Bokeh: all callbacks have finished\");\n  }\n\n  function load_libs(css_urls, js_urls, callback) {\n    if (css_urls == null) css_urls = [];\n    if (js_urls == null) js_urls = [];\n\n    root._bokeh_onload_callbacks.push(callback);\n    if (root._bokeh_is_loading > 0) {\n      console.debug(\"Bokeh: BokehJS is being loaded, scheduling callback at\", now());\n      return null;\n    }\n    if (js_urls == null || js_urls.length === 0) {\n      run_callbacks();\n      return null;\n    }\n    console.debug(\"Bokeh: BokehJS not loaded, scheduling load and callback at\", now());\n    root._bokeh_is_loading = css_urls.length + js_urls.length;\n\n    function on_load() {\n      root._bokeh_is_loading--;\n      if (root._bokeh_is_loading === 0) {\n        console.debug(\"Bokeh: all BokehJS libraries/stylesheets loaded\");\n        run_callbacks()\n      }\n    }\n\n    function on_error(url) {\n      console.error(\"failed to load \" + url);\n    }\n\n    for (let i = 0; i < css_urls.length; i++) {\n      const url = css_urls[i];\n      const element = document.createElement(\"link\");\n      element.onload = on_load;\n      element.onerror = on_error.bind(null, url);\n      element.rel = \"stylesheet\";\n      element.type = \"text/css\";\n      element.href = url;\n      console.debug(\"Bokeh: injecting link tag for BokehJS stylesheet: \", url);\n      document.body.appendChild(element);\n    }\n\n    for (let i = 0; i < js_urls.length; i++) {\n      const url = js_urls[i];\n      const element = document.createElement('script');\n      element.onload = on_load;\n      element.onerror = on_error.bind(null, url);\n      element.async = false;\n      element.src = url;\n      console.debug(\"Bokeh: injecting script tag for BokehJS library: \", url);\n      document.head.appendChild(element);\n    }\n  };\n\n  function inject_raw_css(css) {\n    const element = document.createElement(\"style\");\n    element.appendChild(document.createTextNode(css));\n    document.body.appendChild(element);\n  }\n\n  const js_urls = [\"https://cdn.bokeh.org/bokeh/release/bokeh-3.2.2.min.js\", \"https://cdn.bokeh.org/bokeh/release/bokeh-gl-3.2.2.min.js\", \"https://cdn.bokeh.org/bokeh/release/bokeh-widgets-3.2.2.min.js\", \"https://cdn.bokeh.org/bokeh/release/bokeh-tables-3.2.2.min.js\", \"https://cdn.bokeh.org/bokeh/release/bokeh-mathjax-3.2.2.min.js\", \"https://unpkg.com/@holoviz/panel@1.2.1/dist/panel.min.js\"];\n  const css_urls = [];\n\n  const inline_js = [    function(Bokeh) {\n      Bokeh.set_log_level(\"info\");\n    },\nfunction(Bokeh) {\n    }\n  ];\n\n  function run_inline_js() {\n    if (root.Bokeh !== undefined || force === true) {\n          for (let i = 0; i < inline_js.length; i++) {\n      inline_js[i].call(root, root.Bokeh);\n    }\nif (force === true) {\n        display_loaded();\n      }} else if (Date.now() < root._bokeh_timeout) {\n      setTimeout(run_inline_js, 100);\n    } else if (!root._bokeh_failed_load) {\n      console.log(\"Bokeh: BokehJS failed to load within specified timeout.\");\n      root._bokeh_failed_load = true;\n    } else if (force !== true) {\n      const cell = $(document.getElementById(\"e8dc6cfa-30a4-43e3-9a38-d55a340d540e\")).parents('.cell').data().cell;\n      cell.output_area.append_execute_result(NB_LOAD_WARNING)\n    }\n  }\n\n  if (root._bokeh_is_loading === 0) {\n    console.debug(\"Bokeh: BokehJS loaded, going straight to plotting\");\n    run_inline_js();\n  } else {\n    load_libs(css_urls, js_urls, function() {\n      console.debug(\"Bokeh: BokehJS plotting callback run at\", now());\n      run_inline_js();\n    });\n  }\n}(window));"
     },
     "metadata": {},
     "output_type": "display_data"
    }
   ],
   "source": [
    "output_notebook()"
   ]
  },
  {
   "cell_type": "code",
   "execution_count": 78,
   "metadata": {},
   "outputs": [
    {
     "data": {
      "text/html": [
       "\n",
       "  <div id=\"a44bce3e-fac5-4e51-affa-c0d2d07268aa\" data-root-id=\"p1847\" style=\"display: contents;\"></div>\n"
      ]
     },
     "metadata": {},
     "output_type": "display_data"
    },
    {
     "data": {
      "application/javascript": [
       "(function(root) {\n",
       "  function embed_document(root) {\n",
       "  const docs_json = {\"786bad35-5e6c-47a2-9369-7aac2cf2c611\":{\"version\":\"3.2.2\",\"title\":\"Bokeh Application\",\"roots\":[{\"type\":\"object\",\"name\":\"Figure\",\"id\":\"p1847\",\"attributes\":{\"width\":800,\"height\":800,\"x_range\":{\"type\":\"object\",\"name\":\"DataRange1d\",\"id\":\"p1848\"},\"y_range\":{\"type\":\"object\",\"name\":\"DataRange1d\",\"id\":\"p1849\"},\"x_scale\":{\"type\":\"object\",\"name\":\"LinearScale\",\"id\":\"p1856\"},\"y_scale\":{\"type\":\"object\",\"name\":\"LinearScale\",\"id\":\"p1857\"},\"title\":{\"type\":\"object\",\"name\":\"Title\",\"id\":\"p1854\"},\"renderers\":[{\"type\":\"object\",\"name\":\"GlyphRenderer\",\"id\":\"p1882\",\"attributes\":{\"data_source\":{\"type\":\"object\",\"name\":\"ColumnDataSource\",\"id\":\"p1844\",\"attributes\":{\"selected\":{\"type\":\"object\",\"name\":\"Selection\",\"id\":\"p1845\",\"attributes\":{\"indices\":[],\"line_indices\":[]}},\"selection_policy\":{\"type\":\"object\",\"name\":\"UnionRenderers\",\"id\":\"p1846\"},\"data\":{\"type\":\"map\",\"entries\":[[\"index\",{\"type\":\"ndarray\",\"array\":{\"type\":\"bytes\",\"data\":\"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\"},\"shape\":[2547],\"dtype\":\"int32\",\"order\":\"little\"}],[\"x\",{\"type\":\"ndarray\",\"array\":{\"type\":\"bytes\",\"data\":\"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\"},\"shape\":[2547],\"dtype\":\"float32\",\"order\":\"little\"}],[\"y\",{\"type\":\"ndarray\",\"array\":{\"type\":\"bytes\",\"data\":\"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\"},\"shape\":[2547],\"dtype\":\"float32\",\"order\":\"little\"}],[\"label\",{\"type\":\"ndarray\",\"array\":[\"f1-score-0\",\"f1-score-1\",\"f1-score-2\",\"goals-0\",\"goals-1\",\"goals-2\",\"goals-3\",\"goals-4\",\"goals-5\",\"goals-6\",\"goals-7\",\"goals-8\",\"goals-9\",\"goals-10\",\"goals-11\",\"goals-12\",\"goals-13\",\"goals-14\",\"goals-15\",\"goals-16\",\"goals-17\",\"goals-18\",\"goals-19\",\"goals-20\",\"goals-21\",\"goals-22\",\"goals-23\",\"goals-24\",\"goals-25\",\"goals-26\",\"goals-27\",\"goals-28\",\"goals-29\",\"containerization-0\",\"containerization-1\",\"containerization-2\",\"containerization-3\",\"containerization-4\",\"containerization-5\",\"containerization-6\",\"containerization-7\",\"containerization-8\",\"containerization-9\",\"containerization-10\",\"containerization-11\",\"id_july_session-0\",\"id_july_session-1\",\"id_july_session-2\",\"id_july_session-3\",\"id_july_session-4\",\"id_july_session-5\",\"id_july_session-6\",\"swagger_client-0\",\"swagger_client-1\",\"learning_to_trade_with_RL-0\",\"learning_to_trade_with_RL-1\",\"learning_to_trade_with_RL-2\",\"learning_to_trade_with_RL-3\",\"learning_to_trade_with_RL-4\",\"learning_to_trade_with_RL-5\",\"learning_to_trade_with_RL-6\",\"learning_to_trade_with_RL-7\",\"learning_to_trade_with_RL-8\",\"learning_to_trade_with_RL-9\",\"learning_to_trade_with_RL-10\",\"learning_to_trade_with_RL-11\",\"learning_to_trade_with_RL-12\",\"learning_to_trade_with_RL-13\",\"learning_to_trade_with_RL-14\",\"bbai_2022_wrappup-0\",\"bbai_2022_wrappup-1\",\"bbai_2022_wrappup-2\",\"eepmind_deep_learning_lectures-0\",\"eepmind_deep_learning_lectures-1\",\"eepmind_deep_learning_lectures-2\",\"eepmind_deep_learning_lectures-3\",\"eepmind_deep_learning_lectures-4\",\"eepmind_deep_learning_lectures-5\",\"eepmind_deep_learning_lectures-6\",\"eepmind_deep_learning_lectures-7\",\"eepmind_deep_learning_lectures-8\",\"eepmind_deep_learning_lectures-9\",\"eepmind_deep_learning_lectures-10\",\"eepmind_deep_learning_lectures-11\",\"eepmind_deep_learning_lectures-12\",\"eepmind_deep_learning_lectures-13\",\"eepmind_deep_learning_lectures-14\",\"civilized-mans-eight-deadly-sins-0\",\"civilized-mans-eight-deadly-sins-1\",\"civilized-mans-eight-deadly-sins-2\",\"civilized-mans-eight-deadly-sins-3\",\"civilized-mans-eight-deadly-sins-4\",\"conversion-package-0\",\"conversion-package-1\",\"conversion-package-2\",\"j-2023-07-25-0\",\"j-2023-07-25-1\",\"saas_pricing_model-0\",\"saas_pricing_model-1\",\"saas_pricing_model-2\",\"saas_pricing_model-3\",\"saas_pricing_model-4\",\"saas_pricing_model-5\",\"saas_pricing_model-6\",\"saas_pricing_model-7\",\"saas_pricing_model-8\",\"saas_pricing_model-9\",\"secrets-to-optimal-client-service-0\",\"secrets-to-optimal-client-service-1\",\"ata_types-0\",\"ata_types-1\",\"ata_types-2\",\"ata_types-3\",\"ata_types-4\",\"ata_types-5\",\"ata_types-6\",\"ata_types-7\",\"ata_types-8\",\"ata_types-9\",\"ata_types-10\",\"ata_types-11\",\"ata_types-12\",\"bmi-0\",\"bmi-1\",\"bmi-2\",\"shape-up-0\",\"shape-up-1\",\"shape-up-2\",\"shape-up-3\",\"shape-up-4\",\"shape-up-5\",\"shape-up-6\",\"shape-up-7\",\"shape-up-8\",\"shape-up-9\",\"shape-up-10\",\"shape-up-11\",\"shape-up-12\",\"shape-up-13\",\"shape-up-14\",\"shape-up-15\",\"shape-up-16\",\"shape-up-17\",\"shape-up-18\",\"shape-up-19\",\"shape-up-20\",\"shape-up-21\",\"shape-up-22\",\"shape-up-23\",\"shape-up-24\",\"shape-up-25\",\"shape-up-26\",\"shape-up-27\",\"shape-up-28\",\"shape-up-29\",\"shape-up-30\",\"shape-up-31\",\"shape-up-32\",\"shape-up-33\",\"shape-up-34\",\"shape-up-35\",\"shape-up-36\",\"shape-up-37\",\"shape-up-38\",\"shape-up-39\",\"shape-up-40\",\"shape-up-41\",\"shape-up-42\",\"shape-up-43\",\"shape-up-44\",\"shape-up-45\",\"shape-up-46\",\"shape-up-47\",\"shape-up-48\",\"shape-up-49\",\"shape-up-50\",\"shape-up-51\",\"shape-up-52\",\"shape-up-53\",\"shape-up-54\",\"shape-up-55\",\"shape-up-56\",\"shape-up-57\",\"shape-up-58\",\"shape-up-59\",\"shape-up-60\",\"shape-up-61\",\"shape-up-62\",\"shape-up-63\",\"shape-up-64\",\"shape-up-65\",\"shape-up-66\",\"shape-up-67\",\"shape-up-68\",\"shape-up-69\",\"shape-up-70\",\"shape-up-71\",\"shape-up-72\",\"shape-up-73\",\"shape-up-74\",\"shape-up-75\",\"rework-0\",\"rework-1\",\"rework-2\",\"rework-3\",\"rework-4\",\"rework-5\",\"rework-6\",\"rework-7\",\"rework-8\",\"rework-9\",\"rework-10\",\"rework-11\",\"rework-12\",\"rework-13\",\"rework-14\",\"brainbox-0\",\"brainbox-1\",\"brainbox-2\",\"brainbox-3\",\"brainbox-4\",\"unlearn-oop-0\",\"unlearn-oop-1\",\"unlearn-oop-2\",\"scaling_down_deep_learning-0\",\"scaling_down_deep_learning-1\",\"scaling_down_deep_learning-2\",\"words-0\",\"words-1\",\"words-2\",\"words-3\",\"ila-interactive-visit-autobot-0\",\"ila-interactive-visit-autobot-1\",\"ila-interactive-visit-autobot-2\",\"ila-interactive-visit-autobot-3\",\"ila-interactive-visit-autobot-4\",\"ila-interactive-visit-autobot-5\",\"ila-interactive-visit-autobot-6\",\"ila-interactive-visit-autobot-7\",\"ila-interactive-visit-autobot-8\",\"ila-interactive-visit-autobot-9\",\"ila-interactive-visit-autobot-10\",\"ila-interactive-visit-autobot-11\",\"ila-interactive-visit-autobot-12\",\"ila-interactive-visit-autobot-13\",\"ila-interactive-visit-autobot-14\",\"ila-interactive-visit-autobot-15\",\"ila-interactive-visit-autobot-16\",\"ila-interactive-visit-autobot-17\",\"ila-interactive-visit-autobot-18\",\"esigning-a-better-career-path-for-designers-0\",\"esigning-a-better-career-path-for-designers-1\",\"esigning-a-better-career-path-for-designers-2\",\"esigning-a-better-career-path-for-designers-3\",\"esigning-a-better-career-path-for-designers-4\",\"esigning-a-better-career-path-for-designers-5\",\"review_deepmind_trane_whitepaper-0\",\"review_deepmind_trane_whitepaper-1\",\"review_deepmind_trane_whitepaper-2\",\"review_deepmind_trane_whitepaper-3\",\"review_deepmind_trane_whitepaper-4\",\"review_deepmind_trane_whitepaper-5\",\"review_deepmind_trane_whitepaper-6\",\"review_deepmind_trane_whitepaper-7\",\"review_deepmind_trane_whitepaper-8\",\"eep_fake-0\",\"eep_fake-1\",\"eep_fake-2\",\"eep_fake-3\",\"eep_fake-4\",\"eep_fake-5\",\"eep_fake-6\",\"eep_fake-7\",\"eep_fake-8\",\"eep_fake-9\",\"eep_fake-10\",\"eep_fake-11\",\"eep_fake-12\",\"ifferentiable_programming_for_modeling_and_control_of_dynamical_systems-0\",\"ifferentiable_programming_for_modeling_and_control_of_dynamical_systems-1\",\"ifferentiable_programming_for_modeling_and_control_of_dynamical_systems-2\",\"ifferentiable_programming_for_modeling_and_control_of_dynamical_systems-3\",\"quantization-0\",\"quantization-1\",\"quantization-2\",\"quantization-3\",\"quantization-4\",\"quantization-5\",\"quantization-6\",\"quantization-7\",\"open-source-projects-0\",\"open-source-projects-1\",\"open-source-projects-2\",\"open-source-projects-3\",\"open-source-projects-4\",\"open-source-projects-5\",\"open-source-projects-6\",\"open-source-projects-7\",\"open-source-projects-8\",\"open-source-projects-9\",\"open-source-projects-10\",\"open-source-projects-11\",\"open-source-projects-12\",\"open-source-projects-13\",\"open-source-projects-14\",\"open-source-projects-15\",\"open-source-projects-16\",\"open-source-projects-17\",\"open-source-projects-18\",\"open-source-projects-19\",\"open-source-projects-20\",\"open-source-projects-21\",\"open-source-projects-22\",\"open-source-projects-23\",\"open-source-projects-24\",\"open-source-projects-25\",\"open-source-projects-26\",\"open-source-projects-27\",\"open-source-projects-28\",\"open-source-projects-29\",\"open-source-projects-30\",\"open-source-projects-31\",\"open-source-projects-32\",\"open-source-projects-33\",\"open-source-projects-34\",\"why-im-lukewarm-on-graph-neural-networks-0\",\"why-im-lukewarm-on-graph-neural-networks-1\",\"why-im-lukewarm-on-graph-neural-networks-2\",\"why-im-lukewarm-on-graph-neural-networks-3\",\"why-im-lukewarm-on-graph-neural-networks-4\",\"why-im-lukewarm-on-graph-neural-networks-5\",\"why-im-lukewarm-on-graph-neural-networks-6\",\"why-im-lukewarm-on-graph-neural-networks-7\",\"why-im-lukewarm-on-graph-neural-networks-8\",\"building_ai_trading_systems-0\",\"building_ai_trading_systems-1\",\"building_ai_trading_systems-2\",\"building_ai_trading_systems-3\",\"building_ai_trading_systems-4\",\"building_ai_trading_systems-5\",\"building_ai_trading_systems-6\",\"building_ai_trading_systems-7\",\"building_ai_trading_systems-8\",\"building_ai_trading_systems-9\",\"lattice-0\",\"lattice-1\",\"building_mapping-0\",\"building_mapping-1\",\"building_mapping-2\",\"building_mapping-3\",\"neural-structured-learning-0\",\"neural-structured-learning-1\",\"aws-cli-0\",\"aws-cli-1\",\"aws-cli-2\",\"aws-cli-3\",\"aws-cli-4\",\"business-model-generation-0\",\"business-model-generation-1\",\"business-model-generation-2\",\"business-model-generation-3\",\"business-model-generation-4\",\"business-model-generation-5\",\"business-model-generation-6\",\"business-model-generation-7\",\"business-model-generation-8\",\"business-model-generation-9\",\"business-model-generation-10\",\"business-model-generation-11\",\"business-model-generation-12\",\"business-model-generation-13\",\"business-model-generation-14\",\"stable_diffusion_notes-0\",\"stable_diffusion_notes-1\",\"stable_diffusion_notes-2\",\"stable_diffusion_notes-3\",\"UDE_RTU_equations-0\",\"UDE_RTU_equations-1\",\"UDE_RTU_equations-2\",\"UDE_RTU_equations-3\",\"UDE_RTU_equations-4\",\"UDE_RTU_equations-5\",\"UDE_RTU_equations-6\",\"udemy-course-docker-0\",\"udemy-course-docker-1\",\"udemy-course-docker-2\",\"udemy-course-docker-3\",\"udemy-course-docker-4\",\"udemy-course-docker-5\",\"udemy-course-docker-6\",\"udemy-course-docker-7\",\"udemy-course-docker-8\",\"udemy-course-docker-9\",\"udemy-course-docker-10\",\"udemy-course-docker-11\",\"udemy-course-docker-12\",\"udemy-course-docker-13\",\"udemy-course-docker-14\",\"udemy-course-docker-15\",\"udemy-course-docker-16\",\"udemy-course-docker-17\",\"udemy-course-docker-18\",\"udemy-course-docker-19\",\"udemy-course-docker-20\",\"udemy-course-docker-21\",\"udemy-course-docker-22\",\"udemy-course-docker-23\",\"udemy-course-docker-24\",\"udemy-course-docker-25\",\"udemy-course-docker-26\",\"linear-mpc-state-space-0\",\"linear-mpc-state-space-1\",\"linear-mpc-state-space-2\",\"linear-mpc-state-space-3\",\"linear-mpc-state-space-4\",\"linear-mpc-state-space-5\",\"linear-mpc-state-space-6\",\"linear-mpc-state-space-7\",\"linear-mpc-state-space-8\",\"linear-mpc-state-space-9\",\"linear-mpc-state-space-10\",\"linear-mpc-state-space-11\",\"linear-mpc-state-space-12\",\"linear-mpc-state-space-13\",\"linear-mpc-state-space-14\",\"linear-mpc-state-space-15\",\"linear-mpc-state-space-16\",\"linear-mpc-state-space-17\",\"linear-mpc-state-space-18\",\"linear-mpc-state-space-19\",\"linear-mpc-state-space-20\",\"linear-mpc-state-space-21\",\"linear-mpc-state-space-22\",\"linear-mpc-state-space-23\",\"linear-mpc-state-space-24\",\"linear-mpc-state-space-25\",\"linear-mpc-state-space-26\",\"linear-mpc-state-space-27\",\"linear-mpc-state-space-28\",\"linear-mpc-state-space-29\",\"reinforcement-learning-0\",\"reinforcement-learning-1\",\"reinforcement-learning-2\",\"reinforcement-learning-3\",\"reinforcement-learning-4\",\"reinforcement-learning-5\",\"reinforcement-learning-6\",\"reinforcement-learning-7\",\"reinforcement-learning-8\",\"reinforcement-learning-9\",\"reinforcement-learning-10\",\"reinforcement-learning-11\",\"reinforcement-learning-12\",\"reinforcement-learning-13\",\"reinforcement-learning-14\",\"reinforcement-learning-15\",\"reinforcement-learning-16\",\"reinforcement-learning-17\",\"reinforcement-learning-18\",\"reinforcement-learning-19\",\"reinforcement-learning-20\",\"reinforcement-learning-21\",\"reinforcement-learning-22\",\"reinforcement-learning-23\",\"reinforcement-learning-24\",\"reinforcement-learning-25\",\"reinforcement-learning-26\",\"reinforcement-learning-27\",\"reinforcement-learning-28\",\"s3bucket-0\",\"s3bucket-1\",\"s3bucket-2\",\"s3bucket-3\",\"foam-howto-0\",\"foam-howto-1\",\"pitch-control-module-0\",\"pitch-control-module-1\",\"pitch-control-module-2\",\"pitch-control-module-3\",\"pitch-control-module-4\",\"pitch-control-module-5\",\"pitch-control-module-6\",\"pitch-control-module-7\",\"pitch-control-module-8\",\"architecture-patterns-with-python-0\",\"architecture-patterns-with-python-1\",\"architecture-patterns-with-python-2\",\"architecture-patterns-with-python-3\",\"architecture-patterns-with-python-4\",\"architecture-patterns-with-python-5\",\"architecture-patterns-with-python-6\",\"architecture-patterns-with-python-7\",\"gflownet-0\",\"how-tech-loses-out-0\",\"how-tech-loses-out-1\",\"how-tech-loses-out-2\",\"virtual-bldg-operator-0\",\"virtual-bldg-operator-1\",\"virtual-bldg-operator-2\",\"virtual-bldg-operator-3\",\"virtual-bldg-operator-4\",\"virtual-bldg-operator-5\",\"virtual-bldg-operator-6\",\"virtual-bldg-operator-7\",\"virtual-bldg-operator-8\",\"virtual-bldg-operator-9\",\"virtual-bldg-operator-10\",\"virtual-bldg-operator-11\",\"virtual-bldg-operator-12\",\"virtual-bldg-operator-13\",\"virtual-bldg-operator-14\",\"virtual-bldg-operator-15\",\"virtual-bldg-operator-16\",\"virtual-bldg-operator-17\",\"virtual-bldg-operator-18\",\"virtual-bldg-operator-19\",\"virtual-bldg-operator-20\",\"virtual-bldg-operator-21\",\"virtual-bldg-operator-22\",\"virtual-bldg-operator-23\",\"virtual-bldg-operator-24\",\"virtual-bldg-operator-25\",\"virtual-bldg-operator-26\",\"virtual-bldg-operator-27\",\"virtual-bldg-operator-28\",\"virtual-bldg-operator-29\",\"how-to-interview-engineers-0\",\"how-to-interview-engineers-1\",\"how-to-interview-engineers-2\",\"how-to-interview-engineers-3\",\"how-to-interview-engineers-4\",\"how-to-interview-engineers-5\",\"functional-programming-howto-0\",\"functional-programming-howto-1\",\"functional-programming-howto-2\",\"functional-programming-howto-3\",\"functional-programming-howto-4\",\"functional-programming-howto-5\",\"functional-programming-howto-6\",\"functional-programming-howto-7\",\"functional-programming-howto-8\",\"functional-programming-howto-9\",\"functional-programming-howto-10\",\"functional-programming-howto-11\",\"functional-programming-howto-12\",\"functional-programming-howto-13\",\"functional-programming-howto-14\",\"functional-programming-howto-15\",\"functional-programming-howto-16\",\"functional-programming-howto-17\",\"functional-programming-howto-18\",\"functional-programming-howto-19\",\"functional-programming-howto-20\",\"functional-programming-howto-21\",\"functional-programming-howto-22\",\"functional-programming-howto-23\",\"functional-programming-howto-24\",\"functional-programming-howto-25\",\"functional-programming-howto-26\",\"functional-programming-howto-27\",\"practical-mlops-0\",\"practical-mlops-1\",\"practical-mlops-2\",\"practical-mlops-3\",\"practical-mlops-4\",\"practical-mlops-5\",\"practical-mlops-6\",\"practical-mlops-7\",\"practical-mlops-8\",\"practical-mlops-9\",\"practical-mlops-10\",\"practical-mlops-11\",\"practical-mlops-12\",\"practical-mlops-13\",\"practical-mlops-14\",\"practical-mlops-15\",\"practical-mlops-16\",\"practical-mlops-17\",\"practical-mlops-18\",\"yoshua_bengio_deep_learning_cognition-0\",\"yoshua_bengio_deep_learning_cognition-1\",\"yoshua_bengio_deep_learning_cognition-2\",\"yoshua_bengio_deep_learning_cognition-3\",\"yoshua_bengio_deep_learning_cognition-4\",\"yoshua_bengio_deep_learning_cognition-5\",\"yoshua_bengio_deep_learning_cognition-6\",\"yoshua_bengio_deep_learning_cognition-7\",\"yoshua_bengio_deep_learning_cognition-8\",\"yoshua_bengio_deep_learning_cognition-9\",\"yoshua_bengio_deep_learning_cognition-10\",\"yoshua_bengio_deep_learning_cognition-11\",\"yoshua_bengio_deep_learning_cognition-12\",\"occupancy_modeling-0\",\"occupancy_modeling-1\",\"occupancy_modeling-2\",\"occupancy_modeling-3\",\"occupancy_modeling-4\",\"occupancy_modeling-5\",\"occupancy_modeling-6\",\"occupancy_modeling-7\",\"occupancy_modeling-8\",\"occupancy_modeling-9\",\"occupancy_modeling-10\",\"occupancy_modeling-11\",\"occupancy_modeling-12\",\"occupancy_modeling-13\",\"occupancy_modeling-14\",\"occupancy_modeling-15\",\"occupancy_modeling-16\",\"occupancy_modeling-17\",\"occupancy_modeling-18\",\"occupancy_modeling-19\",\"occupancy_modeling-20\",\"occupancy_modeling-21\",\"occupancy_modeling-22\",\"occupancy_modeling-23\",\"occupancy_modeling-24\",\"occupancy_modeling-25\",\"occupancy_modeling-26\",\"occupancy_modeling-27\",\"occupancy_modeling-28\",\"occupancy_modeling-29\",\"occupancy_modeling-30\",\"occupancy_modeling-31\",\"occupancy_modeling-32\",\"occupancy_modeling-33\",\"occupancy_modeling-34\",\"occupancy_modeling-35\",\"competitor_companies_to_bbai-0\",\"competitor_companies_to_bbai-1\",\"competitor_companies_to_bbai-2\",\"competitor_companies_to_bbai-3\",\"competitor_companies_to_bbai-4\",\"competitor_companies_to_bbai-5\",\"competitor_companies_to_bbai-6\",\"competitor_companies_to_bbai-7\",\"competitor_companies_to_bbai-8\",\"competitor_companies_to_bbai-9\",\"competitor_companies_to_bbai-10\",\"competitor_companies_to_bbai-11\",\"competitor_companies_to_bbai-12\",\"competitor_companies_to_bbai-13\",\"competitor_companies_to_bbai-14\",\"competitor_companies_to_bbai-15\",\"competitor_companies_to_bbai-16\",\"competitor_companies_to_bbai-17\",\"competitor_companies_to_bbai-18\",\"competitor_companies_to_bbai-19\",\"competitor_companies_to_bbai-20\",\"competitor_companies_to_bbai-21\",\"optimization-of-brain-and-life-performance-0\",\"optimization-of-brain-and-life-performance-1\",\"optimization-of-brain-and-life-performance-2\",\"optimization-of-brain-and-life-performance-3\",\"optimization-of-brain-and-life-performance-4\",\"optimization-of-brain-and-life-performance-5\",\"optimization-of-brain-and-life-performance-6\",\"optimization-of-brain-and-life-performance-7\",\"optimization-of-brain-and-life-performance-8\",\"optimization-of-brain-and-life-performance-9\",\"optimization-of-brain-and-life-performance-10\",\"optimization-of-brain-and-life-performance-11\",\"optimization-of-brain-and-life-performance-12\",\"optimization-of-brain-and-life-performance-13\",\"optimization-of-brain-and-life-performance-14\",\"odel_based_machine_learning-0\",\"bullshit-game-0\",\"bullshit-game-1\",\"bullshit-game-2\",\"bullshit-game-3\",\"bullshit-game-4\",\"bullshit-game-5\",\"bullshit-game-6\",\"bullshit-game-7\",\"bullshit-game-8\",\"bullshit-game-9\",\"idiomatic-python-0\",\"idiomatic-python-1\",\"idiomatic-python-2\",\"idiomatic-python-3\",\"idiomatic-python-4\",\"idiomatic-python-5\",\"idiomatic-python-6\",\"templating_drawing_writing-0\",\"templating_drawing_writing-1\",\"templating_drawing_writing-2\",\"templating_drawing_writing-3\",\"templating_drawing_writing-4\",\"anagers_playbook-0\",\"anagers_playbook-1\",\"anagers_playbook-2\",\"anagers_playbook-3\",\"anagers_playbook-4\",\"anagers_playbook-5\",\"anagers_playbook-6\",\"anagers_playbook-7\",\"anagers_playbook-8\",\"anagers_playbook-9\",\"anagers_playbook-10\",\"anagers_playbook-11\",\"anagers_playbook-12\",\"anagers_playbook-13\",\"anagers_playbook-14\",\"anagers_playbook-15\",\"anagers_playbook-16\",\"anagers_playbook-17\",\"anagers_playbook-18\",\"anagers_playbook-19\",\"anagers_playbook-20\",\"anagers_playbook-21\",\"anagers_playbook-22\",\"anagers_playbook-23\",\"anagers_playbook-24\",\"anagers_playbook-25\",\"anagers_playbook-26\",\"anagers_playbook-27\",\"anagers_playbook-28\",\"anagers_playbook-29\",\"anagers_playbook-30\",\"anagers_playbook-31\",\"anagers_playbook-32\",\"anagers_playbook-33\",\"anagers_playbook-34\",\"anagers_playbook-35\",\"anagers_playbook-36\",\"anagers_playbook-37\",\"anagers_playbook-38\",\"anagers_playbook-39\",\"llm_links-0\",\"llm_links-1\",\"llm_links-2\",\"llm_links-3\",\"llm_links-4\",\"llm_links-5\",\"llm_links-6\",\"llm_links-7\",\"llm_links-8\",\"llm_links-9\",\"llm_links-10\",\"llm_links-11\",\"llm_links-12\",\"llm_links-13\",\"llm_links-14\",\"json-yaml-toml-0\",\"json-yaml-toml-1\",\"json-yaml-toml-2\",\"json-yaml-toml-3\",\"atomic-habits-0\",\"atomic-habits-1\",\"atomic-habits-2\",\"atomic-habits-3\",\"atomic-habits-4\",\"atomic-habits-5\",\"atomic-habits-6\",\"atomic-habits-7\",\"atomic-habits-8\",\"atomic-habits-9\",\"ocker-0\",\"ocker-1\",\"ocker-2\",\"ocker-3\",\"ocker-4\",\"ocker-5\",\"ocker-6\",\"ocker-7\",\"ocker-8\",\"ocker-9\",\"ocker-10\",\"ocker-11\",\"ocker-12\",\"ocker-13\",\"ocker-14\",\"ocker-15\",\"influxdb-0\",\"influxdb-1\",\"influxdb-2\",\"influxdb-3\",\"influxdb-4\",\"influxdb-5\",\"influxdb-6\",\"influxdb-7\",\"influxdb-8\",\"job_search_work_experience-0\",\"job_search_work_experience-1\",\"job_search_work_experience-2\",\"job_search_work_experience-3\",\"job_search_work_experience-4\",\"job_search_work_experience-5\",\"reading-week-lottery-ticket-slides-0\",\"reading-week-lottery-ticket-slides-1\",\"reading-week-lottery-ticket-slides-2\",\"reading-week-lottery-ticket-slides-3\",\"reading-week-lottery-ticket-slides-4\",\"reading-week-lottery-ticket-slides-5\",\"reading-week-lottery-ticket-slides-6\",\"reading-week-lottery-ticket-slides-7\",\"reading-week-lottery-ticket-slides-8\",\"reading-week-lottery-ticket-slides-9\",\"reading-week-lottery-ticket-slides-10\",\"reading-week-lottery-ticket-slides-11\",\"reading-week-lottery-ticket-slides-12\",\"reading-week-lottery-ticket-slides-13\",\"reading-week-lottery-ticket-slides-14\",\"reading-week-lottery-ticket-slides-15\",\"reading-week-lottery-ticket-slides-16\",\"reading-week-lottery-ticket-slides-17\",\"reading-week-lottery-ticket-slides-18\",\"reading-week-lottery-ticket-slides-19\",\"reading-week-lottery-ticket-slides-20\",\"reading-week-lottery-ticket-slides-21\",\"reading-week-lottery-ticket-slides-22\",\"reading-week-lottery-ticket-slides-23\",\"reading-week-lottery-ticket-slides-24\",\"reading-week-lottery-ticket-slides-25\",\"reading-week-lottery-ticket-slides-26\",\"reading-week-lottery-ticket-slides-27\",\"reading-week-lottery-ticket-slides-28\",\"biohacking_lite-0\",\"biohacking_lite-1\",\"biohacking_lite-2\",\"biohacking_lite-3\",\"biohacking_lite-4\",\"scientific_progress-0\",\"scientific_progress-1\",\"scientific_progress-2\",\"scientific_progress-3\",\"freelancing-0\",\"freelancing-1\",\"freelancing-2\",\"freelancing-3\",\"freelancing-4\",\"freelancing-5\",\"freelancing-6\",\"freelancing-7\",\"freelancing-8\",\"freelancing-9\",\"annex81-0\",\"annex81-1\",\"annex81-2\",\"annex81-3\",\"annex81-4\",\"annex81-5\",\"annex81-6\",\"annex81-7\",\"annex81-8\",\"annex81-9\",\"annex81-10\",\"annex81-11\",\"annex81-12\",\"annex81-13\",\"annex81-14\",\"annex81-15\",\"annex81-16\",\"annex81-17\",\"annex81-18\",\"annex81-19\",\"annex81-20\",\"annex81-21\",\"annex81-22\",\"annex81-23\",\"annex81-24\",\"a-brief-introduction-to-causal-inference-0\",\"a-brief-introduction-to-causal-inference-1\",\"a-brief-introduction-to-causal-inference-2\",\"a-brief-introduction-to-causal-inference-3\",\"a-brief-introduction-to-causal-inference-4\",\"a-brief-introduction-to-causal-inference-5\",\"a-brief-introduction-to-causal-inference-6\",\"a-brief-introduction-to-causal-inference-7\",\"a-brief-introduction-to-causal-inference-8\",\"a-brief-introduction-to-causal-inference-9\",\"a-brief-introduction-to-causal-inference-10\",\"a-brief-introduction-to-causal-inference-11\",\"a-brief-introduction-to-causal-inference-12\",\"a-brief-introduction-to-causal-inference-13\",\"a-brief-introduction-to-causal-inference-14\",\"biohack_intelligence-0\",\"biohack_intelligence-1\",\"biohack_intelligence-2\",\"biohack_intelligence-3\",\"biohack_intelligence-4\",\"biohack_intelligence-5\",\"biohack_intelligence-6\",\"biohack_intelligence-7\",\"biohack_intelligence-8\",\"biohack_intelligence-9\",\"biohack_intelligence-10\",\"biohack_intelligence-11\",\"biohack_intelligence-12\",\"biohack_intelligence-13\",\"biohack_intelligence-14\",\"biohack_intelligence-15\",\"biohack_intelligence-16\",\"biohack_intelligence-17\",\"biohack_intelligence-18\",\"biohack_intelligence-19\",\"biohack_intelligence-20\",\"biohack_intelligence-21\",\"biohack_intelligence-22\",\"biohack_intelligence-23\",\"biohack_intelligence-24\",\"biohack_intelligence-25\",\"biohack_intelligence-26\",\"biohack_intelligence-27\",\"regex-0\",\"regex-1\",\"regex-2\",\"regex-3\",\"gpu_for_deep_learning-0\",\"gpu_for_deep_learning-1\",\"gpu_for_deep_learning-2\",\"gpu_for_deep_learning-3\",\"gpu_for_deep_learning-4\",\"job_search_linkedin_notes-0\",\"job_search_linkedin_notes-1\",\"job_search_linkedin_notes-2\",\"job_search_linkedin_notes-3\",\"job_search_linkedin_notes-4\",\"job_search_linkedin_notes-5\",\"job_search_linkedin_notes-6\",\"job_search_linkedin_notes-7\",\"job_search_linkedin_notes-8\",\"job_search_linkedin_notes-9\",\"job_search_linkedin_notes-10\",\"job_search_linkedin_notes-11\",\"job_search_linkedin_notes-12\",\"job_search_linkedin_notes-13\",\"job_search_linkedin_notes-14\",\"job_search_linkedin_notes-15\",\"job_search_linkedin_notes-16\",\"job_search_linkedin_notes-17\",\"job_search_linkedin_notes-18\",\"job_search_linkedin_notes-19\",\"job_search_linkedin_notes-20\",\"job_search_linkedin_notes-21\",\"job_search_linkedin_notes-22\",\"job_search_linkedin_notes-23\",\"job_search_linkedin_notes-24\",\"job_search_linkedin_notes-25\",\"job_search_linkedin_notes-26\",\"job_search_linkedin_notes-27\",\"job_search_linkedin_notes-28\",\"se-0\",\"se-1\",\"se-2\",\"se-3\",\"se-4\",\"se-5\",\"se-6\",\"se-7\",\"se-8\",\"thinking-fast-and-slow-0\",\"thinking-fast-and-slow-1\",\"thinking-fast-and-slow-2\",\"thinking-fast-and-slow-3\",\"thinking-fast-and-slow-4\",\"thinking-fast-and-slow-5\",\"thinking-fast-and-slow-6\",\"thinking-fast-and-slow-7\",\"pitch-prediction-module-core-0\",\"pitch-prediction-module-core-1\",\"pitch-prediction-module-core-2\",\"pitch-prediction-module-core-3\",\"pitch-prediction-module-core-4\",\"pitch-prediction-module-core-5\",\"pitch-prediction-module-core-6\",\"pitch-prediction-module-core-7\",\"pitch-prediction-module-core-8\",\"pitch-prediction-module-core-9\",\"pitch-prediction-module-core-10\",\"pitch-prediction-module-core-11\",\"pitch-prediction-module-core-12\",\"pitch-prediction-module-core-13\",\"pitch-prediction-module-core-14\",\"pitch-prediction-module-core-15\",\"pitch-prediction-module-core-16\",\"pitch-prediction-module-core-17\",\"pitch-prediction-module-core-18\",\"pitch-prediction-module-core-19\",\"pitch-prediction-module-core-20\",\"pitch-prediction-module-core-21\",\"pitch-prediction-module-core-22\",\"reading-week-learning-dexterous-in-hand-manipulation-slides-0\",\"reading-week-learning-dexterous-in-hand-manipulation-slides-1\",\"reading-week-learning-dexterous-in-hand-manipulation-slides-2\",\"reading-week-learning-dexterous-in-hand-manipulation-slides-3\",\"reading-week-learning-dexterous-in-hand-manipulation-slides-4\",\"reading-week-learning-dexterous-in-hand-manipulation-slides-5\",\"reading-week-learning-dexterous-in-hand-manipulation-slides-6\",\"reading-week-learning-dexterous-in-hand-manipulation-slides-7\",\"reading-week-learning-dexterous-in-hand-manipulation-slides-8\",\"reading-week-learning-dexterous-in-hand-manipulation-slides-9\",\"reading-week-learning-dexterous-in-hand-manipulation-slides-10\",\"reading-week-learning-dexterous-in-hand-manipulation-slides-11\",\"reading-week-learning-dexterous-in-hand-manipulation-slides-12\",\"neuro-studies-0\",\"neuro-studies-1\",\"neuro-studies-2\",\"neuro-studies-3\",\"taking-better-notes-0\",\"taking-better-notes-1\",\"taking-better-notes-2\",\"taking-better-notes-3\",\"taking-better-notes-4\",\"taking-better-notes-5\",\"ila-node-0\",\"ila-node-1\",\"ila-node-2\",\"ila-node-3\",\"ila-node-4\",\"ila-node-5\",\"ila-node-6\",\"ila-node-7\",\"ila-node-8\",\"ila-node-9\",\"ila-node-10\",\"ila-node-11\",\"ila-node-12\",\"ila-node-13\",\"ila-node-14\",\"generative_AI-0\",\"ifferentiable_programming_from_scratch-0\",\"ifferentiable_programming_from_scratch-1\",\"ifferentiable_programming_from_scratch-2\",\"clearml-jupyter-lab-0\",\"clearml-jupyter-lab-1\",\"code_review-0\",\"code_review-1\",\"code_review-2\",\"code_review-3\",\"code_review-4\",\"code_review-5\",\"code_review-6\",\"code_review-7\",\"code_review-8\",\"lua-0\",\"lua-1\",\"lua-2\",\"lua-3\",\"lua-4\",\"lua-5\",\"lua-6\",\"lua-7\",\"lua-8\",\"lua-9\",\"lua-10\",\"lua-11\",\"lua-12\",\"lua-13\",\"lua-14\",\"lua-15\",\"leadership-foundation-0\",\"leadership-foundation-1\",\"leadership-foundation-2\",\"leadership-foundation-3\",\"presentation_logging-0\",\"presentation_logging-1\",\"presentation_logging-2\",\"presentation_logging-3\",\"presentation_logging-4\",\"presentation_logging-5\",\"presentation_logging-6\",\"presentation_logging-7\",\"presentation_logging-8\",\"presentation_logging-9\",\"presentation_logging-10\",\"presentation_logging-11\",\"presentation_logging-12\",\"presentation_logging-13\",\"presentation_logging-14\",\"presentation_logging-15\",\"presentation_logging-16\",\"presentation_logging-17\",\"presentation_logging-18\",\"presentation_logging-19\",\"presentation_logging-20\",\"presentation_logging-21\",\"haystack-0\",\"haystack-1\",\"haystack-2\",\"haystack-3\",\"haystack-4\",\"a-programmers-guide-to-saving-investing-and-retiring-early-0\",\"a-programmers-guide-to-saving-investing-and-retiring-early-1\",\"a-programmers-guide-to-saving-investing-and-retiring-early-2\",\"a-programmers-guide-to-saving-investing-and-retiring-early-3\",\"julia-0\",\"julia-1\",\"julia-2\",\"julia-3\",\"julia-4\",\"julia-5\",\"julia-6\",\"julia-7\",\"julia-8\",\"julia-9\",\"julia-10\",\"julia-11\",\"julia-12\",\"julia-13\",\"julia-14\",\"julia-15\",\"julia-16\",\"julia-17\",\"julia-18\",\"julia-19\",\"julia-20\",\"julia-21\",\"julia-22\",\"julia-23\",\"julia-24\",\"julia-25\",\"julia-26\",\"julia-27\",\"julia-28\",\"julia-29\",\"julia-30\",\"julia-31\",\"julia-32\",\"julia-33\",\"julia-34\",\"julia-35\",\"julia-36\",\"julia-37\",\"julia-38\",\"julia-39\",\"julia-40\",\"julia-41\",\"julia-42\",\"julia-43\",\"julia-44\",\"julia-45\",\"julia-46\",\"julia-47\",\"julia-48\",\"julia-49\",\"julia-50\",\"julia-51\",\"julia-52\",\"julia-53\",\"julia-54\",\"julia-55\",\"julia-56\",\"julia-57\",\"julia-58\",\"julia-59\",\"julia-60\",\"julia-61\",\"julia-62\",\"julia-63\",\"julia-64\",\"julia-65\",\"julia-66\",\"julia-67\",\"julia-68\",\"julia-69\",\"julia-70\",\"julia-71\",\"julia-72\",\"julia-73\",\"julia-74\",\"julia-75\",\"julia-76\",\"julia-77\",\"julia-78\",\"julia-79\",\"julia-80\",\"julia-81\",\"julia-82\",\"julia-83\",\"julia-84\",\"julia-85\",\"julia-86\",\"julia-87\",\"julia-88\",\"julia-89\",\"julia-90\",\"julia-91\",\"julia-92\",\"julia-93\",\"julia-94\",\"julia-95\",\"julia-96\",\"julia-97\",\"julia-98\",\"julia-99\",\"julia-100\",\"julia-101\",\"julia-102\",\"stable_diffusion_prompts-0\",\"stable_diffusion_prompts-1\",\"stable_diffusion_prompts-2\",\"stable_diffusion_prompts-3\",\"stable_diffusion_prompts-4\",\"stable_diffusion_prompts-5\",\"stable_diffusion_prompts-6\",\"stable_diffusion_prompts-7\",\"stable_diffusion_prompts-8\",\"stable_diffusion_prompts-9\",\"stable_diffusion_prompts-10\",\"stable_diffusion_prompts-11\",\"stable_diffusion_prompts-12\",\"stable_diffusion_prompts-13\",\"stable_diffusion_prompts-14\",\"stable_diffusion_prompts-15\",\"stable_diffusion_prompts-16\",\"stable_diffusion_prompts-17\",\"stable_diffusion_prompts-18\",\"stable_diffusion_prompts-19\",\"stable_diffusion_prompts-20\",\"stable_diffusion_prompts-21\",\"stable_diffusion_prompts-22\",\"stable_diffusion_prompts-23\",\"stable_diffusion_prompts-24\",\"stable_diffusion_prompts-25\",\"stable_diffusion_prompts-26\",\"stable_diffusion_prompts-27\",\"stable_diffusion_prompts-28\",\"stable_diffusion_prompts-29\",\"stable_diffusion_prompts-30\",\"stable_diffusion_prompts-31\",\"project_impetus-0\",\"project_impetus-1\",\"project_impetus-2\",\"project_impetus-3\",\"project_impetus-4\",\"project_impetus-5\",\"project_impetus-6\",\"project_impetus-7\",\"project_impetus-8\",\"project_impetus-9\",\"project_impetus-10\",\"project_impetus-11\",\"project_impetus-12\",\"project_impetus-13\",\"project_impetus-14\",\"project_impetus-15\",\"project_impetus-16\",\"project_impetus-17\",\"project_impetus-18\",\"project_impetus-19\",\"project_impetus-20\",\"project_impetus-21\",\"project_impetus-22\",\"project_impetus-23\",\"project_impetus-24\",\"project_impetus-25\",\"project_impetus-26\",\"project_impetus-27\",\"project_impetus-28\",\"project_impetus-29\",\"project_impetus-30\",\"project_impetus-31\",\"project_impetus-32\",\"project_impetus-33\",\"project_impetus-34\",\"project_impetus-35\",\"project_impetus-36\",\"project_impetus-37\",\"project_impetus-38\",\"project_impetus-39\",\"project_impetus-40\",\"project_impetus-41\",\"project_impetus-42\",\"project_impetus-43\",\"project_impetus-44\",\"project_impetus-45\",\"project_impetus-46\",\"project_impetus-47\",\"project_impetus-48\",\"project_impetus-49\",\"project_impetus-50\",\"project_impetus-51\",\"project_impetus-52\",\"project_impetus-53\",\"project_impetus-54\",\"project_impetus-55\",\"project_impetus-56\",\"project_impetus-57\",\"project_impetus-58\",\"project_impetus-59\",\"project_impetus-60\",\"project_impetus-61\",\"project_impetus-62\",\"project_impetus-63\",\"project_impetus-64\",\"project_impetus-65\",\"project_impetus-66\",\"project_impetus-67\",\"project_impetus-68\",\"project_impetus-69\",\"project_impetus-70\",\"project_impetus-71\",\"project_impetus-72\",\"project_impetus-73\",\"project_impetus-74\",\"project_impetus-75\",\"project_impetus-76\",\"project_impetus-77\",\"project_impetus-78\",\"project_impetus-79\",\"project_impetus-80\",\"project_impetus-81\",\"project_impetus-82\",\"project_impetus-83\",\"project_impetus-84\",\"project_impetus-85\",\"project_impetus-86\",\"project_impetus-87\",\"project_impetus-88\",\"project_impetus-89\",\"project_impetus-90\",\"project_impetus-91\",\"python-properties-0\",\"python-properties-1\",\"python-properties-2\",\"template_report-0\",\"template_report-1\",\"template_report-2\",\"template_report-3\",\"template_report-4\",\"template_report-5\",\"template_report-6\",\"template_report-7\",\"template_report-8\",\"template_report-9\",\"readme-0\",\"readme-1\",\"readme-2\",\"pandoc-latex-test-0\",\"pandoc-latex-test-1\",\"pandoc-latex-test-2\",\"pandoc-latex-test-3\",\"pandoc-latex-test-4\",\"pandoc-latex-test-5\",\"pandoc-latex-test-6\",\"pandoc-latex-test-7\",\"pandoc-latex-test-8\",\"pandoc-latex-template-0\",\"pandoc-latex-template-1\",\"pandoc-latex-template-2\",\"pandoc-latex-template-3\",\"pandoc-latex-template-4\",\"pandoc-latex-template-5\",\"pandoc-latex-template-6\",\"pandoc-latex-template-7\",\"pandoc-latex-template-8\",\"pandoc-latex-template-9\",\"pandoc-latex-template-10\",\"pandoc-latex-template-11\",\"pandoc-latex-template-12\",\"pandoc-latex-template-13\",\"better-software-architecture-for-saas-startups-0\",\"how-to-think-more-effectively-0\",\"how-to-think-more-effectively-1\",\"how-to-think-more-effectively-2\",\"how-to-think-more-effectively-3\",\"how-to-think-more-effectively-4\",\"how-to-think-more-effectively-5\",\"how-to-think-more-effectively-6\",\"how-to-think-more-effectively-7\",\"where-to-publish-0\",\"where-to-publish-1\",\"where-to-publish-2\",\"where-to-publish-3\",\"icroservices-0\",\"icroservices-1\",\"icroservices-2\",\"icroservices-3\",\"icroservices-4\",\"icroservices-5\",\"icroservices-6\",\"icroservices-7\",\"icroservices-8\",\"k3s-0\",\"k3s-1\",\"k3s-2\",\"k3s-3\",\"k3s-4\",\"getting-to-yes-0\",\"getting-to-yes-1\",\"getting-to-yes-2\",\"getting-to-yes-3\",\"getting-to-yes-4\",\"getting-to-yes-5\",\"getting-to-yes-6\",\"getting-to-yes-7\",\"getting-to-yes-8\",\"48-laws-of-power-0\",\"48-laws-of-power-1\",\"48-laws-of-power-2\",\"48-laws-of-power-3\",\"48-laws-of-power-4\",\"48-laws-of-power-5\",\"48-laws-of-power-6\",\"igital-twin-0\",\"igital-twin-1\",\"igital-twin-2\",\"igital-twin-3\",\"igital-twin-4\",\"igital-twin-5\",\"igital-twin-6\",\"igital-twin-7\",\"igital-twin-8\",\"igital-twin-9\",\"igital-twin-10\",\"igital-twin-11\",\"igital-twin-12\",\"igital-twin-13\",\"igital-twin-14\",\"predicting_the_stock_market_is_easier_than_you_think-0\",\"predicting_the_stock_market_is_easier_than_you_think-1\",\"predicting_the_stock_market_is_easier_than_you_think-2\",\"predicting_the_stock_market_is_easier_than_you_think-3\",\"predicting_the_stock_market_is_easier_than_you_think-4\",\"ramble-0\",\"ramble-1\",\"ramble-2\",\"pitch-prediction-module-monitor-0\",\"pitch-prediction-module-monitor-1\",\"pitch-prediction-module-monitor-2\",\"pitch-prediction-module-monitor-3\",\"pitch-prediction-module-monitor-4\",\"pitch-prediction-module-monitor-5\",\"pitch-prediction-module-monitor-6\",\"the-use-and-practice-of-scientific-machine-learning-0\",\"the-use-and-practice-of-scientific-machine-learning-1\",\"the-use-and-practice-of-scientific-machine-learning-2\",\"the-use-and-practice-of-scientific-machine-learning-3\",\"the-use-and-practice-of-scientific-machine-learning-4\",\"the-use-and-practice-of-scientific-machine-learning-5\",\"acme-rl-building-blocks-0\",\"acme-rl-building-blocks-1\",\"acme-rl-building-blocks-2\",\"job_search_drw_20230731-0\",\"job_search_drw_20230731-1\",\"job_search_drw_20230731-2\",\"job_search_drw_20230731-3\",\"job_search_drw_20230731-4\",\"job_search_drw_20230731-5\",\"job_search_drw_20230731-6\",\"shields-down-0\",\"shields-down-1\",\"shields-down-2\",\"shields-down-3\",\"eepmind_muzero-0\",\"eepmind_muzero-1\",\"eepmind_muzero-2\",\"eepmind_muzero-3\",\"eepmind_muzero-4\",\"eepmind_muzero-5\",\"eepmind_muzero-6\",\"eepmind_muzero-7\",\"eepmind_muzero-8\",\"eepmind_muzero-9\",\"eepmind_muzero-10\",\"eepmind_muzero-11\",\"eepmind_muzero-12\",\"eepmind_muzero-13\",\"eepmind_muzero-14\",\"eepmind_muzero-15\",\"eepmind_muzero-16\",\"eepmind_muzero-17\",\"eepmind_muzero-18\",\"eepmind_muzero-19\",\"eepmind_muzero-20\",\"eepmind_muzero-21\",\"jax-0\",\"jax-1\",\"jax-2\",\"jax-3\",\"jax-4\",\"jax-5\",\"jax-6\",\"bullshit-jobs-0\",\"bullshit-jobs-1\",\"bullshit-jobs-2\",\"emories-0\",\"emories-1\",\"emories-2\",\"emories-3\",\"emories-4\",\"emories-5\",\"emories-6\",\"emories-7\",\"emories-8\",\"emories-9\",\"emories-10\",\"emories-11\",\"job_search_publications-0\",\"job_search_publications-1\",\"job_search_publications-2\",\"job_search_publications-3\",\"job_search_publications-4\",\"job_search_publications-5\",\"job_search_publications-6\",\"job_search_publications-7\",\"job_search_publications-8\",\"job_search_publications-9\",\"job_search_publications-10\",\"job_search_publications-11\",\"job_search_publications-12\",\"job_search_publications-13\",\"job_search_publications-14\",\"job_search_publications-15\",\"job_search_publications-16\",\"job_search_publications-17\",\"job_search_publications-18\",\"job_search_publications-19\",\"job_search_publications-20\",\"job_search_publications-21\",\"job_search_publications-22\",\"ultilevel-modeling-0\",\"ultilevel-modeling-1\",\"ultilevel-modeling-2\",\"AI-team-revamp-0\",\"AI-team-revamp-1\",\"AI-team-revamp-2\",\"AI-team-revamp-3\",\"AI-team-revamp-4\",\"AI-team-revamp-5\",\"AI-team-revamp-6\",\"AI-team-revamp-7\",\"AI-team-revamp-8\",\"AI-team-revamp-9\",\"AI-team-revamp-10\",\"AI-team-revamp-11\",\"AI-team-revamp-12\",\"AI-team-revamp-13\",\"AI-team-revamp-14\",\"AI-team-revamp-15\",\"AI-team-revamp-16\",\"AI-team-revamp-17\",\"AI-team-revamp-18\",\"AI-team-revamp-19\",\"AI-team-revamp-20\",\"AI-team-revamp-21\",\"AI-team-revamp-22\",\"AI-team-revamp-23\",\"AI-team-revamp-24\",\"AI-team-revamp-25\",\"AI-team-revamp-26\",\"AI-team-revamp-27\",\"AI-team-revamp-28\",\"AI-team-revamp-29\",\"AI-team-revamp-30\",\"AI-team-revamp-31\",\"AI-team-revamp-32\",\"AI-team-revamp-33\",\"AI-team-revamp-34\",\"AI-team-revamp-35\",\"AI-team-revamp-36\",\"AI-team-revamp-37\",\"AI-team-revamp-38\",\"AI-team-revamp-39\",\"AI-team-revamp-40\",\"AI-team-revamp-41\",\"AI-team-revamp-42\",\"AI-team-revamp-43\",\"AI-team-revamp-44\",\"AI-team-revamp-45\",\"AI-team-revamp-46\",\"AI-team-revamp-47\",\"AI-team-revamp-48\",\"AI-team-revamp-49\",\"AI-team-revamp-50\",\"AI-team-revamp-51\",\"AI-team-revamp-52\",\"AI-team-revamp-53\",\"AI-team-revamp-54\",\"AI-team-revamp-55\",\"AI-team-revamp-56\",\"AI-team-revamp-57\",\"AI-team-revamp-58\",\"AI-team-revamp-59\",\"AI-team-revamp-60\",\"AI-team-revamp-61\",\"AI-team-revamp-62\",\"AI-team-revamp-63\",\"AI-team-revamp-64\",\"AI-team-revamp-65\",\"AI-team-revamp-66\",\"AI-team-revamp-67\",\"AI-team-revamp-68\",\"AI-team-revamp-69\",\"AI-team-revamp-70\",\"AI-team-revamp-71\",\"AI-team-revamp-72\",\"AI-team-revamp-73\",\"AI-team-revamp-74\",\"AI-team-revamp-75\",\"AI-team-revamp-76\",\"AI-team-revamp-77\",\"AI-team-revamp-78\",\"AI-team-revamp-79\",\"AI-team-revamp-80\",\"AI-team-revamp-81\",\"AI-team-revamp-82\",\"AI-team-revamp-83\",\"AI-team-revamp-84\",\"AI-team-revamp-85\",\"AI-team-revamp-86\",\"AI-team-revamp-87\",\"AI-team-revamp-88\",\"AI-team-revamp-89\",\"AI-team-revamp-90\",\"AI-team-revamp-91\",\"AI-team-revamp-92\",\"AI-team-revamp-93\",\"AI-team-revamp-94\",\"AI-team-revamp-95\",\"AI-team-revamp-96\",\"AI-team-revamp-97\",\"AI-team-revamp-98\",\"AI-team-revamp-99\",\"bayesian_optimization-0\",\"bayesian_optimization-1\",\"bayesian_optimization-2\",\"bayesian_optimization-3\",\"bayesian_optimization-4\",\"bayesian_optimization-5\",\"bayesian_optimization-6\",\"bayesian_optimization-7\",\"bayesian_optimization-8\",\"bayesian_optimization-9\",\"bayesian_optimization-10\",\"bayesian_optimization-11\",\"bayesian_optimization-12\",\"bayesian_optimization-13\",\"bayesian_optimization-14\",\"bayesian_optimization-15\",\"bayesian_optimization-16\",\"bayesian_optimization-17\",\"bayesian_optimization-18\",\"bayesian_optimization-19\",\"statistics-sensitivity-analysis-0\",\"statistics-sensitivity-analysis-1\",\"statistics-sensitivity-analysis-2\",\"statistics-sensitivity-analysis-3\",\"statistics-sensitivity-analysis-4\",\"statistics-sensitivity-analysis-5\",\"statistics-sensitivity-analysis-6\",\"statistics-sensitivity-analysis-7\",\"statistics-sensitivity-analysis-8\",\"statistics-sensitivity-analysis-9\",\"statistics-sensitivity-analysis-10\",\"statistics-sensitivity-analysis-11\",\"statistics-sensitivity-analysis-12\",\"statistics-sensitivity-analysis-13\",\"statistics-sensitivity-analysis-14\",\"statistics-sensitivity-analysis-15\",\"statistics-sensitivity-analysis-16\",\"statistics-sensitivity-analysis-17\",\"statistics-sensitivity-analysis-18\",\"statistics-sensitivity-analysis-19\",\"statistics-sensitivity-analysis-20\",\"statistics-sensitivity-analysis-21\",\"statistics-sensitivity-analysis-22\",\"statistics-sensitivity-analysis-23\",\"statistics-sensitivity-analysis-24\",\"statistics-sensitivity-analysis-25\",\"statistics-sensitivity-analysis-26\",\"statistics-sensitivity-analysis-27\",\"statistics-sensitivity-analysis-28\",\"statistics-sensitivity-analysis-29\",\"statistics-sensitivity-analysis-30\",\"statistics-sensitivity-analysis-31\",\"statistics-sensitivity-analysis-32\",\"statistics-sensitivity-analysis-33\",\"statistics-sensitivity-analysis-34\",\"statistics-sensitivity-analysis-35\",\"statistics-sensitivity-analysis-36\",\"statistics-sensitivity-analysis-37\",\"statistics-sensitivity-analysis-38\",\"statistics-sensitivity-analysis-39\",\"statistics-sensitivity-analysis-40\",\"statistics-sensitivity-analysis-41\",\"statistics-sensitivity-analysis-42\",\"statistics-sensitivity-analysis-43\",\"statistics-sensitivity-analysis-44\",\"statistics-sensitivity-analysis-45\",\"statistics-sensitivity-analysis-46\",\"statistics-sensitivity-analysis-47\",\"statistics-sensitivity-analysis-48\",\"statistics-sensitivity-analysis-49\",\"statistics-sensitivity-analysis-50\",\"statistics-sensitivity-analysis-51\",\"statistics-sensitivity-analysis-52\",\"statistics-sensitivity-analysis-53\",\"statistics-sensitivity-analysis-54\",\"statistics-sensitivity-analysis-55\",\"statistics-sensitivity-analysis-56\",\"statistics-sensitivity-analysis-57\",\"statistics-sensitivity-analysis-58\",\"statistics-sensitivity-analysis-59\",\"statistics-sensitivity-analysis-60\",\"statistics-sensitivity-analysis-61\",\"statistics-sensitivity-analysis-62\",\"statistics-sensitivity-analysis-63\",\"statistics-sensitivity-analysis-64\",\"statistics-sensitivity-analysis-65\",\"statistics-sensitivity-analysis-66\",\"statistics-sensitivity-analysis-67\",\"statistics-sensitivity-analysis-68\",\"statistics-sensitivity-analysis-69\",\"statistics-sensitivity-analysis-70\",\"statistics-sensitivity-analysis-71\",\"statistics-sensitivity-analysis-72\",\"statistics-sensitivity-analysis-73\",\"statistics-sensitivity-analysis-74\",\"statistics-sensitivity-analysis-75\",\"statistics-sensitivity-analysis-76\",\"statistics-sensitivity-analysis-77\",\"statistics-sensitivity-analysis-78\",\"statistics-sensitivity-analysis-79\",\"statistics-sensitivity-analysis-80\",\"state-of-ml-in-julia-0\",\"state-of-ml-in-julia-1\",\"state-of-ml-in-julia-2\",\"state-of-ml-in-julia-3\",\"state-of-ml-in-julia-4\",\"state-of-ml-in-julia-5\",\"state-of-ml-in-julia-6\",\"state-of-ml-in-julia-7\",\"state-of-ml-in-julia-8\",\"state-of-ml-in-julia-9\",\"100-lessons-from-1-year-of-AI-research-0\",\"100-lessons-from-1-year-of-AI-research-1\",\"100-lessons-from-1-year-of-AI-research-2\",\"100-lessons-from-1-year-of-AI-research-3\",\"100-lessons-from-1-year-of-AI-research-4\",\"100-lessons-from-1-year-of-AI-research-5\",\"100-lessons-from-1-year-of-AI-research-6\",\"100-lessons-from-1-year-of-AI-research-7\",\"100-lessons-from-1-year-of-AI-research-8\",\"100-lessons-from-1-year-of-AI-research-9\",\"100-lessons-from-1-year-of-AI-research-10\",\"100-lessons-from-1-year-of-AI-research-11\",\"100-lessons-from-1-year-of-AI-research-12\",\"100-lessons-from-1-year-of-AI-research-13\",\"100-lessons-from-1-year-of-AI-research-14\",\"100-lessons-from-1-year-of-AI-research-15\",\"100-lessons-from-1-year-of-AI-research-16\",\"100-lessons-from-1-year-of-AI-research-17\",\"100-lessons-from-1-year-of-AI-research-18\",\"100-lessons-from-1-year-of-AI-research-19\",\"100-lessons-from-1-year-of-AI-research-20\",\"100-lessons-from-1-year-of-AI-research-21\",\"100-lessons-from-1-year-of-AI-research-22\",\"100-lessons-from-1-year-of-AI-research-23\",\"100-lessons-from-1-year-of-AI-research-24\",\"ai-canvas-0\",\"ai-canvas-1\",\"ai-canvas-2\",\"ai-canvas-3\",\"prioritization-the-other-definition-0\",\"prioritization-the-other-definition-1\",\"prioritization-the-other-definition-2\",\"prioritization-the-other-definition-3\",\"prioritization-the-other-definition-4\",\"prioritization-the-other-definition-5\",\"prioritization-the-other-definition-6\",\"big_O-0\",\"big_O-1\",\"big_O-2\",\"big_O-3\",\"big_O-4\",\"finance_live_dashboar-0\",\"finance_live_dashboar-1\",\"finance_live_dashboar-2\",\"finance_live_dashboar-3\",\"finance_live_dashboar-4\",\"ebate-bengio-marcus-0\",\"ebate-bengio-marcus-1\",\"ebate-bengio-marcus-2\",\"ebate-bengio-marcus-3\",\"bash-0\",\"bash-1\",\"bash-2\",\"bash-3\",\"start-ups-0\",\"start-ups-1\",\"start-ups-2\",\"start-ups-3\",\"start-ups-4\",\"start-ups-5\",\"start-ups-6\",\"start-ups-7\",\"start-ups-8\",\"start-ups-9\",\"start-ups-10\",\"start-ups-11\",\"start-ups-12\",\"start-ups-13\",\"start-ups-14\",\"start-ups-15\",\"start-ups-16\",\"job_search_meta_mleng_20221007-0\",\"job_search_meta_mleng_20221007-1\",\"job_search_meta_mleng_20221007-2\",\"job_search_meta_mleng_20221007-3\",\"job_search_meta_mleng_20221007-4\",\"job_search_meta_mleng_20221007-5\",\"job_search_meta_mleng_20221007-6\",\"job_search_meta_mleng_20221007-7\",\"job_search_meta_mleng_20221007-8\",\"principle-of-least-action-0\",\"principle-of-least-action-1\",\"principle-of-least-action-2\",\"principle-of-least-action-3\",\"principle-of-least-action-4\",\"principle-of-least-action-5\",\"google_digital_buildings_ontology-0\",\"google_digital_buildings_ontology-1\",\"google_digital_buildings_ontology-2\",\"google_digital_buildings_ontology-3\",\"google_digital_buildings_ontology-4\",\"google_digital_buildings_ontology-5\",\"google_digital_buildings_ontology-6\",\"google_digital_buildings_ontology-7\",\"ila-extensions-0\",\"ila-extensions-1\",\"ila-extensions-2\",\"ila-extensions-3\",\"ila-extensions-4\",\"awk-0\",\"the-art-of-seduction-0\",\"the-art-of-seduction-1\",\"ba_linkedin_post-0\",\"ba_linkedin_post-1\",\"ba_linkedin_post-2\",\"ba_linkedin_post-3\",\"ba_linkedin_post-4\",\"ba_linkedin_post-5\",\"ba_linkedin_post-6\",\"ba_linkedin_post-7\",\"programming_tags-0\",\"programming_tags-1\",\"200k_biohacking-0\",\"200k_biohacking-1\",\"200k_biohacking-2\",\"200k_biohacking-3\",\"200k_biohacking-4\",\"200k_biohacking-5\",\"200k_biohacking-6\",\"200k_biohacking-7\",\"200k_biohacking-8\",\"200k_biohacking-9\",\"200k_biohacking-10\",\"200k_biohacking-11\",\"200k_biohacking-12\",\"robotics-0\",\"pitch-prediction-module-interface-0\",\"pitch-prediction-module-interface-1\",\"pitch-prediction-module-interface-2\",\"pitch-prediction-module-interface-3\",\"pitch-prediction-module-interface-4\",\"pitch-prediction-module-interface-5\",\"pitch-prediction-module-interface-6\",\"pitch-prediction-module-interface-7\",\"pitch-prediction-module-interface-8\",\"pitch-prediction-module-interface-9\",\"pitch-prediction-module-interface-10\",\"pitch-prediction-module-interface-11\",\"pitch-prediction-module-interface-12\",\"pitch-prediction-module-interface-13\",\"pitch-prediction-module-interface-14\",\"pitch-prediction-module-interface-15\",\"pitch-prediction-module-interface-16\",\"pitch-prediction-module-interface-17\",\"pitch-prediction-module-interface-18\",\"pitch-prediction-module-interface-19\",\"pitch-prediction-module-interface-20\",\"pitch-prediction-module-interface-21\",\"pitch-prediction-module-interface-22\",\"pitch-prediction-module-interface-23\",\"pitch-prediction-module-interface-24\",\"pitch-prediction-module-interface-25\",\"clearml-0\",\"clearml-1\",\"clearml-2\",\"clearml-3\",\"clearml-4\",\"clearml-5\",\"clearml-6\",\"clearml-7\",\"clearml-8\",\"clearml-9\",\"clearml-10\",\"clearml-11\",\"progressive-summarization-0\",\"progressive-summarization-1\",\"progressive-summarization-2\",\"progressive-summarization-3\",\"progressive-summarization-4\",\"progressive-summarization-5\",\"progressive-summarization-6\",\"progressive-summarization-7\",\"progressive-summarization-8\",\"progressive-summarization-9\",\"progressive-summarization-10\",\"vi-0\",\"vi-1\",\"vi-2\",\"vi-3\",\"vi-4\",\"vi-5\",\"vi-6\",\"vi-7\",\"vi-8\",\"tmux-0\",\"tmux-1\",\"tmux-2\",\"oop-is-dead-long-live-data-oriented-design-0\",\"oop-is-dead-long-live-data-oriented-design-1\",\"oop-is-dead-long-live-data-oriented-design-2\",\"way-of-the-wolf-0\",\"way-of-the-wolf-1\",\"way-of-the-wolf-2\",\"way-of-the-wolf-3\",\"physical-simulations-0\",\"physical-simulations-1\",\"physical-simulations-2\",\"physical-simulations-3\",\"physical-simulations-4\",\"physical-simulations-5\",\"physical-simulations-6\",\"physical-simulations-7\",\"physical-simulations-8\",\"physical-simulations-9\",\"physical-simulations-10\",\"physical-simulations-11\",\"physical-simulations-12\",\"physical-simulations-13\",\"physical-simulations-14\",\"physical-simulations-15\",\"physical-simulations-16\",\"physical-simulations-17\",\"physical-simulations-18\",\"physical-simulations-19\",\"physical-simulations-20\",\"physical-simulations-21\",\"physical-simulations-22\",\"physical-simulations-23\",\"physical-simulations-24\",\"physical-simulations-25\",\"physical-simulations-26\",\"saas_metrics-0\",\"saas_metrics-1\",\"saas_metrics-2\",\"saas_metrics-3\",\"saas_metrics-4\",\"saas_metrics-5\",\"saas_metrics-6\",\"saas_metrics-7\",\"saas_metrics-8\",\"saas_metrics-9\",\"saas_metrics-10\",\"git-0\",\"git-1\",\"git-2\",\"git-3\",\"git-4\",\"git-5\",\"git-6\",\"git-7\",\"git-8\",\"git-9\",\"health-0\",\"health-1\",\"health-2\",\"health-3\",\"arkdown_cheatsheet-0\",\"arkdown_cheatsheet-1\",\"arkdown_cheatsheet-2\",\"arkdown_cheatsheet-3\",\"arkdown_cheatsheet-4\",\"arkdown_cheatsheet-5\",\"arkdown_cheatsheet-6\",\"pytest-0\",\"pytest-1\",\"pytest-2\",\"pytest-3\",\"pytest-4\",\"pytest-5\",\"pytest-6\",\"inbox-0\",\"inbox-1\",\"inbox-2\",\"inbox-3\",\"inbox-4\",\"inbox-5\",\"inbox-6\",\"inbox-7\",\"inbox-8\",\"inbox-9\",\"inbox-10\",\"inbox-11\",\"inbox-12\",\"inbox-13\",\"inbox-14\",\"inbox-15\",\"inbox-16\",\"inbox-17\",\"inbox-18\",\"inbox-19\",\"inbox-20\",\"inbox-21\",\"inbox-22\",\"inbox-23\",\"inbox-24\",\"inbox-25\",\"inbox-26\",\"inbox-27\",\"inbox-28\",\"inbox-29\",\"inbox-30\",\"inbox-31\",\"inbox-32\",\"inbox-33\",\"inbox-34\",\"inbox-35\",\"inbox-36\",\"inbox-37\",\"inbox-38\",\"inbox-39\",\"inbox-40\",\"inbox-41\",\"inbox-42\",\"inbox-43\",\"inbox-44\",\"inbox-45\",\"inbox-46\",\"inbox-47\",\"inbox-48\",\"inbox-49\",\"inbox-50\",\"inbox-51\",\"inbox-52\",\"inbox-53\",\"inbox-54\",\"inbox-55\",\"inbox-56\",\"inbox-57\",\"inbox-58\",\"inbox-59\",\"tfp-distributions-0\",\"tfp-distributions-1\",\"tfp-distributions-2\",\"tfp-distributions-3\",\"tfp-distributions-4\",\"tfp-distributions-5\",\"tfp-distributions-6\",\"tfp-distributions-7\",\"tfp-distributions-8\",\"tfp-distributions-9\",\"tfp-distributions-10\",\"tfp-distributions-11\",\"tfp-distributions-12\",\"tfp-distributions-13\",\"tfp-distributions-14\",\"tfp-distributions-15\",\"tfp-distributions-16\",\"tfp-distributions-17\",\"tfp-distributions-18\",\"tfp-distributions-19\",\"tfp-distributions-20\",\"tfp-distributions-21\",\"tfp-distributions-22\",\"tfp-distributions-23\",\"tfp-distributions-24\",\"tfp-distributions-25\",\"tfp-distributions-26\",\"tfp-distributions-27\",\"tfp-distributions-28\",\"tfp-distributions-29\",\"tfp-distributions-30\",\"tfp-distributions-31\",\"tfp-distributions-32\",\"tfp-distributions-33\",\"tfp-distributions-34\",\"tfp-distributions-35\",\"tfp-distributions-36\",\"tfp-distributions-37\",\"tfp-distributions-38\",\"tfp-distributions-39\",\"tfp-distributions-40\",\"tfp-distributions-41\",\"tfp-distributions-42\",\"tfp-distributions-43\",\"tfp-distributions-44\",\"tfp-distributions-45\",\"tfp-distributions-46\",\"tfp-distributions-47\",\"tfp-distributions-48\",\"tfp-distributions-49\",\"tfp-distributions-50\",\"tfp-distributions-51\",\"tfp-distributions-52\",\"tfp-distributions-53\",\"tfp-distributions-54\",\"tfp-distributions-55\",\"tfp-distributions-56\",\"ila-applied_ml-0\",\"ila-applied_ml-1\",\"ila-applied_ml-2\",\"ila-applied_ml-3\",\"ila-applied_ml-4\",\"ila-applied_ml-5\",\"ila-applied_ml-6\",\"ila-applied_ml-7\",\"ila-applied_ml-8\",\"ila-applied_ml-9\",\"ila-applied_ml-10\",\"ila-applied_ml-11\",\"ila-applied_ml-12\",\"ila-applied_ml-13\",\"ila-applied_ml-14\",\"ila-applied_ml-15\",\"ila-applied_ml-16\",\"ila-applied_ml-17\",\"visulize-pytorch-model-0\",\"visulize-pytorch-model-1\",\"visulize-pytorch-model-2\",\"visulize-pytorch-model-3\",\"visulize-pytorch-model-4\",\"visulize-pytorch-model-5\",\"penrose-0\",\"penrose-1\",\"penrose-2\",\"penrose-3\",\"penrose-4\",\"parallel-0\",\"parallel-1\",\"parallel-2\",\"parallel-3\",\"odels-at-brainbox-0\",\"odels-at-brainbox-1\",\"odels-at-brainbox-2\",\"odels-at-brainbox-3\",\"odels-at-brainbox-4\",\"odels-at-brainbox-5\",\"odels-at-brainbox-6\",\"odels-at-brainbox-7\",\"odels-at-brainbox-8\",\"odels-at-brainbox-9\",\"odels-at-brainbox-10\",\"odels-at-brainbox-11\",\"odels-at-brainbox-12\",\"odels-at-brainbox-13\",\"odels-at-brainbox-14\",\"odels-at-brainbox-15\",\"odels-at-brainbox-16\",\"odels-at-brainbox-17\",\"odels-at-brainbox-18\",\"julia_node_work_file_explanations-0\",\"julia_node_work_file_explanations-1\",\"julia_node_work_file_explanations-2\",\"julia_node_work_file_explanations-3\",\"udemy-course-kubernetes-0\",\"udemy-course-kubernetes-1\",\"udemy-course-kubernetes-2\",\"udemy-course-kubernetes-3\",\"udemy-course-kubernetes-4\",\"udemy-course-kubernetes-5\",\"udemy-course-kubernetes-6\",\"udemy-course-kubernetes-7\",\"udemy-course-kubernetes-8\",\"udemy-course-kubernetes-9\",\"udemy-course-kubernetes-10\",\"udemy-course-kubernetes-11\",\"udemy-course-kubernetes-12\",\"udemy-course-kubernetes-13\",\"udemy-course-kubernetes-14\",\"udemy-course-kubernetes-15\",\"udemy-course-kubernetes-16\",\"udemy-course-kubernetes-17\",\"udemy-course-kubernetes-18\",\"udemy-course-kubernetes-19\",\"udemy-course-kubernetes-20\",\"udemy-course-kubernetes-21\",\"udemy-course-kubernetes-22\",\"udemy-course-kubernetes-23\",\"udemy-course-kubernetes-24\",\"udemy-course-kubernetes-25\",\"udemy-course-kubernetes-26\",\"udemy-course-kubernetes-27\",\"udemy-course-kubernetes-28\",\"udemy-course-kubernetes-29\",\"udemy-course-kubernetes-30\",\"udemy-course-kubernetes-31\",\"udemy-course-kubernetes-32\",\"ila-pierre-luc-extension-0\",\"ila-pierre-luc-extension-1\",\"ila-pierre-luc-extension-2\",\"ila-pierre-luc-extension-3\",\"ila-pierre-luc-extension-4\",\"ila-pierre-luc-extension-5\",\"ila-pierre-luc-extension-6\",\"ila-pierre-luc-extension-7\",\"ila-pierre-luc-extension-8\",\"ila-pierre-luc-extension-9\",\"ila-pierre-luc-extension-10\",\"the-10-commandments-of-salary-negotiation-0\",\"the-10-commandments-of-salary-negotiation-1\",\"the-10-commandments-of-salary-negotiation-2\",\"the-10-commandments-of-salary-negotiation-3\",\"the-10-commandments-of-salary-negotiation-4\",\"the-10-commandments-of-salary-negotiation-5\",\"the-10-commandments-of-salary-negotiation-6\",\"the-10-commandments-of-salary-negotiation-7\",\"the-10-commandments-of-salary-negotiation-8\",\"the-10-commandments-of-salary-negotiation-9\",\"the-10-commandments-of-salary-negotiation-10\",\"the-leader-you-want-to-be-0\",\"the-leader-you-want-to-be-1\",\"the-leader-you-want-to-be-2\",\"the-leader-you-want-to-be-3\",\"the-leader-you-want-to-be-4\",\"the-leader-you-want-to-be-5\",\"the-leader-you-want-to-be-6\",\"the-leader-you-want-to-be-7\",\"the-leader-you-want-to-be-8\",\"the-leader-you-want-to-be-9\",\"the-leader-you-want-to-be-10\",\"the-leader-you-want-to-be-11\",\"the-leader-you-want-to-be-12\",\"the-leader-you-want-to-be-13\",\"the-leader-you-want-to-be-14\",\"the-leader-you-want-to-be-15\",\"the-leader-you-want-to-be-16\",\"the-leader-you-want-to-be-17\",\"the-leader-you-want-to-be-18\",\"the-leader-you-want-to-be-19\",\"the-leader-you-want-to-be-20\",\"the-leader-you-want-to-be-21\",\"the-leader-you-want-to-be-22\",\"the-leader-you-want-to-be-23\",\"the-leader-you-want-to-be-24\",\"the-leader-you-want-to-be-25\",\"the-leader-you-want-to-be-26\",\"the-leader-you-want-to-be-27\",\"the-leader-you-want-to-be-28\",\"the-leader-you-want-to-be-29\",\"the-leader-you-want-to-be-30\",\"the-leader-you-want-to-be-31\",\"the-leader-you-want-to-be-32\",\"the-leader-you-want-to-be-33\",\"the-leader-you-want-to-be-34\",\"the-leader-you-want-to-be-35\",\"the-leader-you-want-to-be-36\",\"the-leader-you-want-to-be-37\",\"the-leader-you-want-to-be-38\",\"the-leader-you-want-to-be-39\",\"the-leader-you-want-to-be-40\",\"the-leader-you-want-to-be-41\",\"the-leader-you-want-to-be-42\",\"the-leader-you-want-to-be-43\",\"the-leader-you-want-to-be-44\",\"the-leader-you-want-to-be-45\",\"the-leader-you-want-to-be-46\",\"the-leader-you-want-to-be-47\",\"the-leader-you-want-to-be-48\",\"the-leader-you-want-to-be-49\",\"the-leader-you-want-to-be-50\",\"the-leader-you-want-to-be-51\",\"the-leader-you-want-to-be-52\",\"the-leader-you-want-to-be-53\",\"the-leader-you-want-to-be-54\",\"the-leader-you-want-to-be-55\",\"the-leader-you-want-to-be-56\",\"the-leader-you-want-to-be-57\",\"the-leader-you-want-to-be-58\",\"the-leader-you-want-to-be-59\",\"the-leader-you-want-to-be-60\",\"the-leader-you-want-to-be-61\",\"the-leader-you-want-to-be-62\",\"the-leader-you-want-to-be-63\",\"the-leader-you-want-to-be-64\",\"the-leader-you-want-to-be-65\",\"the-leader-you-want-to-be-66\",\"the-leader-you-want-to-be-67\",\"the-leader-you-want-to-be-68\",\"the-leader-you-want-to-be-69\",\"the-leader-you-want-to-be-70\",\"the-leader-you-want-to-be-71\",\"the-leader-you-want-to-be-72\",\"the-leader-you-want-to-be-73\",\"influencing-notes-0\",\"influencing-notes-1\",\"influencing-notes-2\",\"influencing-notes-3\",\"influencing-notes-4\",\"influencing-notes-5\",\"influencing-notes-6\",\"influencing-notes-7\",\"influencing-notes-8\",\"influencing-notes-9\",\"influencing-notes-10\",\"self-managed-tea-0\",\"self-managed-tea-1\",\"self-managed-tea-2\",\"self-managed-tea-3\",\"self-managed-tea-4\",\"self-managed-tea-5\",\"self-managed-tea-6\",\"self-managed-tea-7\",\"self-managed-tea-8\",\"self-managed-tea-9\",\"self-managed-tea-10\",\"self-managed-tea-11\",\"self-managed-tea-12\",\"klotho-0\",\"worth-the-time-0\",\"bargaining-for-advantage-0\",\"bargaining-for-advantage-1\",\"bargaining-for-advantage-2\",\"bargaining-for-advantage-3\",\"bargaining-for-advantage-4\",\"bargaining-for-advantage-5\",\"bargaining-for-advantage-6\",\"bargaining-for-advantage-7\",\"bargaining-for-advantage-8\",\"bargaining-for-advantage-9\",\"bargaining-for-advantage-10\",\"bargaining-for-advantage-11\",\"bargaining-for-advantage-12\",\"bargaining-for-advantage-13\",\"bargaining-for-advantage-14\",\"bargaining-for-advantage-15\",\"bargaining-for-advantage-16\",\"bargaining-for-advantage-17\",\"bargaining-for-advantage-18\",\"bargaining-for-advantage-19\",\"bargaining-for-advantage-20\",\"bargaining-for-advantage-21\",\"bargaining-for-advantage-22\",\"bargaining-for-advantage-23\",\"causality-0\",\"causality-1\",\"causality-2\",\"causality-3\",\"causality-4\",\"causality-5\",\"causality-6\",\"causality-7\",\"causality-8\",\"causality-9\",\"causality-10\",\"conversation-with-cole-0\",\"conversation-with-cole-1\",\"conversation-with-cole-2\",\"conversation-with-cole-3\",\"conversation-with-cole-4\",\"conversation-with-cole-5\",\"great-at-work-0\",\"great-at-work-1\",\"great-at-work-2\",\"great-at-work-3\",\"great-at-work-4\",\"great-at-work-5\",\"great-at-work-6\",\"great-at-work-7\",\"great-at-work-8\",\"great-at-work-9\",\"great-at-work-10\",\"pitch-prediction-module-model-management-0\",\"pitch-prediction-module-model-management-1\",\"pitch-prediction-module-model-management-2\",\"pitch-prediction-module-model-management-3\",\"pitch-prediction-module-model-management-4\",\"pitch-prediction-module-model-management-5\",\"pitch-prediction-module-model-management-6\",\"pitch-prediction-module-model-management-7\",\"pitch-prediction-module-model-management-8\",\"pitch-prediction-module-model-management-9\",\"pitch-prediction-module-model-management-10\",\"pitch-prediction-module-model-management-11\",\"pitch-prediction-module-model-management-12\",\"pitch-prediction-module-model-management-13\",\"pitch-prediction-module-model-management-14\",\"pitch-prediction-module-model-management-15\",\"pitch-prediction-module-model-management-16\",\"pitch-prediction-module-model-management-17\",\"pitch-prediction-module-model-management-18\",\"pitch-prediction-module-model-management-19\",\"pitch-prediction-module-model-management-20\",\"pitch-prediction-module-model-management-21\",\"pitch-prediction-module-model-management-22\",\"pitch-prediction-module-model-management-23\",\"pitch-prediction-module-model-management-24\",\"pitch-prediction-module-model-management-25\",\"pitch-prediction-module-model-management-26\",\"pitch-prediction-module-model-management-27\",\"pitch-prediction-module-model-management-28\",\"pitch-prediction-module-model-management-29\",\"pitch-prediction-module-model-management-30\",\"pitch-prediction-module-model-management-31\",\"linear-mpc-and-kalman-filters-0\",\"linear-mpc-and-kalman-filters-1\",\"linear-mpc-and-kalman-filters-2\",\"linear-mpc-and-kalman-filters-3\",\"linear-mpc-and-kalman-filters-4\",\"linear-mpc-and-kalman-filters-5\",\"linear-mpc-and-kalman-filters-6\",\"linear-mpc-and-kalman-filters-7\",\"linear-mpc-and-kalman-filters-8\",\"linear-mpc-and-kalman-filters-9\",\"linear-mpc-and-kalman-filters-10\",\"linear-mpc-and-kalman-filters-11\",\"linear-mpc-and-kalman-filters-12\",\"linear-mpc-and-kalman-filters-13\",\"linear-mpc-and-kalman-filters-14\",\"linear-mpc-and-kalman-filters-15\",\"linear-mpc-and-kalman-filters-16\",\"linear-mpc-and-kalman-filters-17\",\"linear-mpc-and-kalman-filters-18\",\"linear-mpc-and-kalman-filters-19\",\"linear-mpc-and-kalman-filters-20\",\"articles-0\",\"articles-1\",\"articles-2\",\"articles-3\",\"articles-4\",\"articles-5\",\"articles-6\",\"farm-stack-0\",\"farm-stack-1\",\"rtu-solution-0\",\"rtu-solution-1\",\"rtu-solution-2\",\"rtu-solution-3\",\"rtu-solution-4\",\"rtu-solution-5\",\"rtu-solution-6\",\"rtu-solution-7\",\"rtu-solution-8\",\"rtu-solution-9\",\"rtu-solution-10\",\"rtu-solution-11\",\"rtu-solution-12\",\"rtu-solution-13\",\"rtu-solution-14\",\"rtu-solution-15\",\"rtu-solution-16\",\"rtu-solution-17\",\"rtu-solution-18\",\"rtu-solution-19\",\"rtu-solution-20\",\"rtu-solution-21\",\"rtu-solution-22\",\"rtu-solution-23\",\"rtu-solution-24\",\"rtu-solution-25\",\"rtu-solution-26\",\"rtu-solution-27\",\"rtu-solution-28\",\"rtu-solution-29\",\"rtu-solution-30\",\"rtu-solution-31\",\"attention-0\",\"attention-1\",\"attention-2\",\"attention-3\",\"attention-4\",\"atabases-0\",\"atabases-1\",\"atabases-2\",\"atabases-3\",\"atabases-4\",\"atabases-5\",\"atabases-6\",\"atabases-7\",\"atabases-8\",\"atabases-9\",\"saas-financial-models-0\",\"saas-financial-models-1\",\"saas-financial-models-2\",\"saas-financial-models-3\",\"saas-financial-models-4\",\"saas-financial-models-5\",\"saas-financial-models-6\",\"saas-financial-models-7\",\"saas-financial-models-8\",\"saas-financial-models-9\",\"ila-timl-0\",\"ila-timl-1\",\"ila-timl-2\",\"ila-timl-3\",\"ila-timl-4\",\"ila-timl-5\",\"ila-timl-6\",\"ila-timl-7\",\"ila-timl-8\",\"ila-timl-9\",\"ila-timl-10\",\"ila-timl-11\",\"ila-timl-12\",\"ila-timl-13\",\"ila-timl-14\",\"ila-timl-15\",\"ila-timl-16\",\"ila-timl-17\",\"ila-timl-18\",\"ila-timl-19\",\"ila-timl-20\",\"ila-timl-21\",\"ila-timl-22\",\"ila-timl-23\",\"ila-timl-24\",\"ila-timl-25\",\"ila-timl-26\",\"ila-timl-27\",\"ila-timl-28\",\"ila-timl-29\",\"ila-timl-30\",\"ila-timl-31\",\"ila-timl-32\",\"ila-timl-33\",\"ila-timl-34\",\"ila-timl-35\",\"ila-timl-36\",\"ila-timl-37\",\"ila-timl-38\",\"ila-timl-39\",\"ila-timl-40\",\"ila-timl-41\",\"ila-timl-42\",\"ila-timl-43\",\"ila-timl-44\",\"ila-timl-45\",\"ila-timl-46\",\"ila-timl-47\",\"ila-timl-48\",\"ila-timl-49\",\"ila-timl-50\",\"ila-timl-51\",\"ila-timl-52\",\"ila-timl-53\",\"ila-timl-54\",\"ila-timl-55\",\"ila-timl-56\",\"ila-timl-57\",\"ila-timl-58\",\"ila-timl-59\",\"ila-timl-60\",\"ila-timl-61\"],\"shape\":[2547],\"dtype\":\"object\",\"order\":\"little\"}],[\"alpha\",{\"type\":\"ndarray\",\"array\":{\"type\":\"bytes\",\"data\":\"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\"},\"shape\":[2547],\"dtype\":\"float64\",\"order\":\"little\"}]]}}},\"view\":{\"type\":\"object\",\"name\":\"CDSView\",\"id\":\"p1883\",\"attributes\":{\"filter\":{\"type\":\"object\",\"name\":\"AllIndices\",\"id\":\"p1884\"}}},\"glyph\":{\"type\":\"object\",\"name\":\"Circle\",\"id\":\"p1879\",\"attributes\":{\"x\":{\"type\":\"field\",\"field\":\"x\"},\"y\":{\"type\":\"field\",\"field\":\"y\"},\"line_color\":{\"type\":\"value\",\"value\":\"#6aaed6\"},\"line_alpha\":{\"type\":\"field\",\"field\":\"alpha\"},\"fill_color\":{\"type\":\"value\",\"value\":\"#6aaed6\"},\"fill_alpha\":{\"type\":\"field\",\"field\":\"alpha\"},\"hatch_color\":{\"type\":\"value\",\"value\":\"#6aaed6\"},\"hatch_alpha\":{\"type\":\"field\",\"field\":\"alpha\"}}},\"nonselection_glyph\":{\"type\":\"object\",\"name\":\"Circle\",\"id\":\"p1880\",\"attributes\":{\"x\":{\"type\":\"field\",\"field\":\"x\"},\"y\":{\"type\":\"field\",\"field\":\"y\"},\"line_color\":{\"type\":\"value\",\"value\":\"#6aaed6\"},\"line_alpha\":{\"type\":\"value\",\"value\":0.1},\"fill_color\":{\"type\":\"value\",\"value\":\"#6aaed6\"},\"fill_alpha\":{\"type\":\"value\",\"value\":0.1},\"hatch_color\":{\"type\":\"value\",\"value\":\"#6aaed6\"},\"hatch_alpha\":{\"type\":\"value\",\"value\":0.1}}},\"muted_glyph\":{\"type\":\"object\",\"name\":\"Circle\",\"id\":\"p1881\",\"attributes\":{\"x\":{\"type\":\"field\",\"field\":\"x\"},\"y\":{\"type\":\"field\",\"field\":\"y\"},\"line_color\":{\"type\":\"value\",\"value\":\"#6aaed6\"},\"line_alpha\":{\"type\":\"value\",\"value\":0.2},\"fill_color\":{\"type\":\"value\",\"value\":\"#6aaed6\"},\"fill_alpha\":{\"type\":\"value\",\"value\":0.2},\"hatch_color\":{\"type\":\"value\",\"value\":\"#6aaed6\"},\"hatch_alpha\":{\"type\":\"value\",\"value\":0.2}}}}}],\"toolbar\":{\"type\":\"object\",\"name\":\"Toolbar\",\"id\":\"p1855\",\"attributes\":{\"tools\":[{\"type\":\"object\",\"name\":\"PanTool\",\"id\":\"p1868\"},{\"type\":\"object\",\"name\":\"WheelZoomTool\",\"id\":\"p1869\"},{\"type\":\"object\",\"name\":\"BoxZoomTool\",\"id\":\"p1870\",\"attributes\":{\"overlay\":{\"type\":\"object\",\"name\":\"BoxAnnotation\",\"id\":\"p1871\",\"attributes\":{\"syncable\":false,\"level\":\"overlay\",\"visible\":false,\"left_units\":\"canvas\",\"right_units\":\"canvas\",\"bottom_units\":\"canvas\",\"top_units\":\"canvas\",\"line_color\":\"black\",\"line_alpha\":1.0,\"line_width\":2,\"line_dash\":[4,4],\"fill_color\":\"lightgrey\",\"fill_alpha\":0.5}}}},{\"type\":\"object\",\"name\":\"SaveTool\",\"id\":\"p1872\"},{\"type\":\"object\",\"name\":\"ResetTool\",\"id\":\"p1873\"},{\"type\":\"object\",\"name\":\"HelpTool\",\"id\":\"p1874\"},{\"type\":\"object\",\"name\":\"HoverTool\",\"id\":\"p1875\",\"attributes\":{\"renderers\":\"auto\",\"tooltips\":[[\"label\",\"@{label}\"]]}}]}},\"left\":[{\"type\":\"object\",\"name\":\"LinearAxis\",\"id\":\"p1863\",\"attributes\":{\"visible\":false,\"ticker\":{\"type\":\"object\",\"name\":\"BasicTicker\",\"id\":\"p1864\",\"attributes\":{\"mantissas\":[1,2,5]}},\"formatter\":{\"type\":\"object\",\"name\":\"BasicTickFormatter\",\"id\":\"p1865\"},\"major_label_policy\":{\"type\":\"object\",\"name\":\"AllLabels\",\"id\":\"p1866\"}}}],\"below\":[{\"type\":\"object\",\"name\":\"LinearAxis\",\"id\":\"p1858\",\"attributes\":{\"visible\":false,\"ticker\":{\"type\":\"object\",\"name\":\"BasicTicker\",\"id\":\"p1859\",\"attributes\":{\"mantissas\":[1,2,5]}},\"formatter\":{\"type\":\"object\",\"name\":\"BasicTickFormatter\",\"id\":\"p1860\"},\"major_label_policy\":{\"type\":\"object\",\"name\":\"AllLabels\",\"id\":\"p1861\"}}}],\"center\":[{\"type\":\"object\",\"name\":\"Grid\",\"id\":\"p1862\",\"attributes\":{\"visible\":false,\"axis\":{\"id\":\"p1858\"}}},{\"type\":\"object\",\"name\":\"Grid\",\"id\":\"p1867\",\"attributes\":{\"visible\":false,\"dimension\":1,\"axis\":{\"id\":\"p1863\"}}}],\"background_fill_color\":\"white\"}}],\"defs\":[{\"type\":\"model\",\"name\":\"ReactiveHTML1\"},{\"type\":\"model\",\"name\":\"FlexBox1\",\"properties\":[{\"name\":\"align_content\",\"kind\":\"Any\",\"default\":\"flex-start\"},{\"name\":\"align_items\",\"kind\":\"Any\",\"default\":\"flex-start\"},{\"name\":\"flex_direction\",\"kind\":\"Any\",\"default\":\"row\"},{\"name\":\"flex_wrap\",\"kind\":\"Any\",\"default\":\"wrap\"},{\"name\":\"justify_content\",\"kind\":\"Any\",\"default\":\"flex-start\"}]},{\"type\":\"model\",\"name\":\"FloatPanel1\",\"properties\":[{\"name\":\"config\",\"kind\":\"Any\",\"default\":{\"type\":\"map\"}},{\"name\":\"contained\",\"kind\":\"Any\",\"default\":true},{\"name\":\"position\",\"kind\":\"Any\",\"default\":\"right-top\"},{\"name\":\"offsetx\",\"kind\":\"Any\",\"default\":null},{\"name\":\"offsety\",\"kind\":\"Any\",\"default\":null},{\"name\":\"theme\",\"kind\":\"Any\",\"default\":\"primary\"},{\"name\":\"status\",\"kind\":\"Any\",\"default\":\"normalized\"}]},{\"type\":\"model\",\"name\":\"GridStack1\",\"properties\":[{\"name\":\"mode\",\"kind\":\"Any\",\"default\":\"warn\"},{\"name\":\"ncols\",\"kind\":\"Any\",\"default\":null},{\"name\":\"nrows\",\"kind\":\"Any\",\"default\":null},{\"name\":\"allow_resize\",\"kind\":\"Any\",\"default\":true},{\"name\":\"allow_drag\",\"kind\":\"Any\",\"default\":true},{\"name\":\"state\",\"kind\":\"Any\",\"default\":[]}]},{\"type\":\"model\",\"name\":\"drag1\",\"properties\":[{\"name\":\"slider_width\",\"kind\":\"Any\",\"default\":5},{\"name\":\"slider_color\",\"kind\":\"Any\",\"default\":\"black\"},{\"name\":\"value\",\"kind\":\"Any\",\"default\":50}]},{\"type\":\"model\",\"name\":\"click1\",\"properties\":[{\"name\":\"terminal_output\",\"kind\":\"Any\",\"default\":\"\"},{\"name\":\"debug_name\",\"kind\":\"Any\",\"default\":\"\"},{\"name\":\"clears\",\"kind\":\"Any\",\"default\":0}]},{\"type\":\"model\",\"name\":\"FastWrapper1\",\"properties\":[{\"name\":\"object\",\"kind\":\"Any\",\"default\":null},{\"name\":\"style\",\"kind\":\"Any\",\"default\":null}]},{\"type\":\"model\",\"name\":\"NotificationAreaBase1\",\"properties\":[{\"name\":\"js_events\",\"kind\":\"Any\",\"default\":{\"type\":\"map\"}},{\"name\":\"position\",\"kind\":\"Any\",\"default\":\"bottom-right\"},{\"name\":\"_clear\",\"kind\":\"Any\",\"default\":0}]},{\"type\":\"model\",\"name\":\"NotificationArea1\",\"properties\":[{\"name\":\"js_events\",\"kind\":\"Any\",\"default\":{\"type\":\"map\"}},{\"name\":\"notifications\",\"kind\":\"Any\",\"default\":[]},{\"name\":\"position\",\"kind\":\"Any\",\"default\":\"bottom-right\"},{\"name\":\"_clear\",\"kind\":\"Any\",\"default\":0},{\"name\":\"types\",\"kind\":\"Any\",\"default\":[{\"type\":\"map\",\"entries\":[[\"type\",\"warning\"],[\"background\",\"#ffc107\"],[\"icon\",{\"type\":\"map\",\"entries\":[[\"className\",\"fas fa-exclamation-triangle\"],[\"tagName\",\"i\"],[\"color\",\"white\"]]}]]},{\"type\":\"map\",\"entries\":[[\"type\",\"info\"],[\"background\",\"#007bff\"],[\"icon\",{\"type\":\"map\",\"entries\":[[\"className\",\"fas fa-info-circle\"],[\"tagName\",\"i\"],[\"color\",\"white\"]]}]]}]}]},{\"type\":\"model\",\"name\":\"Notification\",\"properties\":[{\"name\":\"background\",\"kind\":\"Any\",\"default\":null},{\"name\":\"duration\",\"kind\":\"Any\",\"default\":3000},{\"name\":\"icon\",\"kind\":\"Any\",\"default\":null},{\"name\":\"message\",\"kind\":\"Any\",\"default\":\"\"},{\"name\":\"notification_type\",\"kind\":\"Any\",\"default\":null},{\"name\":\"_destroyed\",\"kind\":\"Any\",\"default\":false}]},{\"type\":\"model\",\"name\":\"TemplateActions1\",\"properties\":[{\"name\":\"open_modal\",\"kind\":\"Any\",\"default\":0},{\"name\":\"close_modal\",\"kind\":\"Any\",\"default\":0}]},{\"type\":\"model\",\"name\":\"BootstrapTemplateActions1\",\"properties\":[{\"name\":\"open_modal\",\"kind\":\"Any\",\"default\":0},{\"name\":\"close_modal\",\"kind\":\"Any\",\"default\":0}]},{\"type\":\"model\",\"name\":\"MaterialTemplateActions1\",\"properties\":[{\"name\":\"open_modal\",\"kind\":\"Any\",\"default\":0},{\"name\":\"close_modal\",\"kind\":\"Any\",\"default\":0}]}]}};\n",
       "  const render_items = [{\"docid\":\"786bad35-5e6c-47a2-9369-7aac2cf2c611\",\"roots\":{\"p1847\":\"a44bce3e-fac5-4e51-affa-c0d2d07268aa\"},\"root_ids\":[\"p1847\"]}];\n",
       "  root.Bokeh.embed.embed_items_notebook(docs_json, render_items);\n",
       "  }\n",
       "  if (root.Bokeh !== undefined) {\n",
       "    embed_document(root);\n",
       "  } else {\n",
       "    let attempts = 0;\n",
       "    const timer = setInterval(function(root) {\n",
       "      if (root.Bokeh !== undefined) {\n",
       "        clearInterval(timer);\n",
       "        embed_document(root);\n",
       "      } else {\n",
       "        attempts++;\n",
       "        if (attempts > 100) {\n",
       "          clearInterval(timer);\n",
       "          console.log(\"Bokeh: ERROR: Unable to run BokehJS code because BokehJS library is missing\");\n",
       "        }\n",
       "      }\n",
       "    }, 10, root)\n",
       "  }\n",
       "})(window);"
      ],
      "application/vnd.bokehjs_exec.v0+json": ""
     },
     "metadata": {
      "application/vnd.bokehjs_exec.v0+json": {
       "id": "p1847"
      }
     },
     "output_type": "display_data"
    }
   ],
   "source": [
    "f = umap.plot.interactive(umap_embeddings, hover_data=pd.DataFrame(filename_chunks, columns=[\"label\"]), point_size=4, alpha=0.8)\n",
    "show(f)"
   ]
  },
  {
   "cell_type": "markdown",
   "metadata": {},
   "source": [
    "# Reading ArXiV abstracts\n",
    "More of an *academic* exercise since there are many websites/tools that do this way better."
   ]
  }
 ],
 "metadata": {
  "colab": {
   "name": "Text embeddings & semantic search",
   "provenance": []
  },
  "kernelspec": {
   "display_name": "Python 3 (ipykernel)",
   "language": "python",
   "name": "python3"
  },
  "language_info": {
   "codemirror_mode": {
    "name": "ipython",
    "version": 3
   },
   "file_extension": ".py",
   "mimetype": "text/x-python",
   "name": "python",
   "nbconvert_exporter": "python",
   "pygments_lexer": "ipython3",
   "version": "3.10.12"
  }
 },
 "nbformat": 4,
 "nbformat_minor": 4
}
